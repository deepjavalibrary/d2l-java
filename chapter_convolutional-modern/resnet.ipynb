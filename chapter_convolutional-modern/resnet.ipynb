{
 "cells": [
  {
   "cell_type": "markdown",
   "metadata": {},
   "source": [
    "# Residual Networks (ResNet)\n",
    "\n",
    ":label:`sec_resnet`\n",
    "\n",
    "\n",
    "As we design increasingly deeper networks it becomes imperative to understand how adding layers can increase the complexity and expressiveness of the network. Even more important is the ability to design networks where adding layers makes networks strictly more expressive rather than just different. To make some progress we need a bit of theory.\n",
    "\n",
    "## Function Classes\n",
    "\n",
    "Consider $\\mathcal{F}$, the class of functions that a specific network architecture (together with learning rates and other hyperparameter settings) can reach. That is, for all $f \\in \\mathcal{F}$ there exists some set of parameters $W$ that can be obtained through training on a suitable dataset. Let us assume that $f^*$ is the function that we really would like to find. If it is in $\\mathcal{F}$, we are in good shape but typically we will not be quite so lucky. Instead, we will try to find some $f^*_\\mathcal{F}$ which is our best bet within $\\mathcal{F}$. For instance, we might try finding it by solving the following optimization problem:\n",
    "\n",
    "$$f^*_\\mathcal{F} := \\mathop{\\mathrm{argmin}}_f L(X, Y, f) \\text{ subject to } f \\in \\mathcal{F}.$$\n",
    "\n",
    "It is only reasonable to assume that if we design a different and more powerful architecture $\\mathcal{F}'$ we should arrive at a better outcome. In other words, we would expect that $f^*_{\\mathcal{F}'}$ is \"better\" than $f^*_{\\mathcal{F}}$. However, if $\\mathcal{F} \\not\\subseteq \\mathcal{F}'$ there is no guarantee that this should even happen. In fact, $f^*_{\\mathcal{F}'}$ might well be worse. This is a situation that we often encounter in practice---adding layers does not only make the network more expressive, it also changes it in sometimes not quite so predictable ways. :numref:`fig_functionclasses`illustrates this in slightly abstract terms.\n",
    "\n",
    "![Left: non-nested function classes. The distance may in fact increase as the complexity increases. Right: with nested function classes this does not happen.](https://raw.githubusercontent.com/d2l-ai/d2l-en/master/img/functionclasses.svg)\n",
    "\n",
    ":label:`fig_functionclasses`\n",
    "\n",
    "\n",
    "\n",
    "Only if larger function classes contain the smaller ones are we guaranteed that increasing them strictly increases the expressive power of the network. This is the question that He et al, 2016 considered when working on very deep computer vision models. At the heart of ResNet is the idea that every additional layer should contain the identity function as one of its elements. This means that if we can train the newly-added layer into an identity mapping $f(\\mathbf{x}) = \\mathbf{x}$, the new model will be as effective as the original model. As the new model may get a better solution to fit the training dataset, the added layer might make it easier to reduce training errors. Even better, the identity function rather than the null $f(\\mathbf{x}) = 0$ should be the simplest function within a layer.\n",
    "\n",
    "These considerations are rather profound but they led to a surprisingly simple\n",
    "solution, a residual block. With it, :cite:`He.Zhang.Ren.ea.2016` won the ImageNet Visual\n",
    "Recognition Challenge in 2015. The design had a profound influence on how to\n",
    "build deep neural networks.\n",
    "\n",
    "\n",
    "## Residual Blocks\n",
    "\n",
    "Let us focus on a local neural network, as depicted below. Denote the input by $\\mathbf{x}$. We assume that the ideal mapping we want to obtain by learning is $f(\\mathbf{x})$, to be used as the input to the activation function. The portion within the dotted-line box in the left image must directly fit the mapping $f(\\mathbf{x})$. This can be tricky if we do not need that particular layer and we would much rather retain the input $\\mathbf{x}$. The portion within the dotted-line box in the right image now only needs to parametrize the *deviation* from the identity, since we return $\\mathbf{x} + f(\\mathbf{x})$. In practice, the residual mapping is often easier to optimize. We only need to set $f(\\mathbf{x}) = 0$. The right image in :numref:`fig_residual_block` illustrates the basic Residual Block of ResNet. Similar architectures were later proposed for sequence models which we will study later.\n",
    "\n",
    "![The difference between a regular block (left) and a residual block (right). In the latter case, we can short-circuit the convolutions.](https://raw.githubusercontent.com/d2l-ai/d2l-en/master/img/residual-block.svg)\n",
    "\n",
    ":label:`fig_residual_block`\n",
    "\n",
    "\n",
    "\n",
    "ResNet follows VGG's full $3\\times 3$ convolutional layer design. The residual block has two $3\\times 3$ convolutional layers with the same number of output channels. Each convolutional layer is followed by a batch normalization layer and a ReLU activation function. Then, we skip these two convolution operations and add the input directly before the final ReLU activation function. This kind of design requires that the output of the two convolutional layers be of the same shape as the input, so that they can be added together. If we want to change the number of channels or the stride, we need to introduce an additional $1\\times 1$ convolutional layer to transform the input into the desired shape for the addition operation. Let us have a look at the code below."
   ]
  },
  {
   "cell_type": "code",
   "execution_count": null,
   "metadata": {},
   "outputs": [],
   "source": [
    "%mavenRepo snapshots https://oss.sonatype.org/content/repositories/snapshots/\n",
    "\n",
    "%maven ai.djl:api:0.7.0-SNAPSHOT\n",
    "%maven ai.djl:model-zoo:0.7.0-SNAPSHOT\n",
    "%maven ai.djl:basicdataset:0.7.0-SNAPSHOT\n",
    "%maven org.slf4j:slf4j-api:1.7.26\n",
    "%maven org.slf4j:slf4j-simple:1.7.26\n",
    "    \n",
    "%maven ai.djl.mxnet:mxnet-engine:0.7.0-SNAPSHOT\n",
    "%maven ai.djl.mxnet:mxnet-native-auto:1.7.0-a"
   ]
  },
  {
   "cell_type": "code",
   "execution_count": null,
   "metadata": {},
   "outputs": [],
   "source": [
    "%%loadFromPOM\n",
    "<dependency>\n",
    "    <groupId>tech.tablesaw</groupId>\n",
    "    <artifactId>tablesaw-jsplot</artifactId>\n",
    "    <version>0.30.4</version>\n",
    "</dependency>"
   ]
  },
  {
   "cell_type": "code",
   "execution_count": null,
   "metadata": {},
   "outputs": [],
   "source": [
    "%load ../utils/plot-utils.ipynb\n",
    "%load ../utils/Training.java\n",
    "%load ../utils/Accumulator.java"
   ]
  },
  {
   "cell_type": "code",
   "execution_count": null,
   "metadata": {},
   "outputs": [],
   "source": [
    "import ai.djl.Model;\n",
    "import ai.djl.basicdataset.FashionMnist;\n",
    "import ai.djl.metric.Metrics;\n",
    "import ai.djl.modality.cv.transform.Resize;\n",
    "import ai.djl.modality.cv.transform.ToTensor;\n",
    "import ai.djl.ndarray.NDArray;\n",
    "import ai.djl.ndarray.NDList;\n",
    "import ai.djl.ndarray.NDManager;\n",
    "import ai.djl.ndarray.types.DataType;\n",
    "import ai.djl.ndarray.types.Shape;\n",
    "import ai.djl.nn.*;\n",
    "import ai.djl.nn.convolutional.Conv2d;\n",
    "import ai.djl.nn.core.Linear;\n",
    "import ai.djl.nn.norm.BatchNorm;\n",
    "import ai.djl.nn.pooling.Pool;\n",
    "import ai.djl.training.DefaultTrainingConfig;\n",
    "import ai.djl.training.EasyTrain;\n",
    "import ai.djl.training.ParameterStore;\n",
    "import ai.djl.training.Trainer;\n",
    "import ai.djl.training.dataset.ArrayDataset;\n",
    "import ai.djl.training.dataset.Dataset;\n",
    "import ai.djl.training.evaluator.Accuracy;\n",
    "import ai.djl.training.initializer.XavierInitializer;\n",
    "import ai.djl.training.listener.TrainingListener;\n",
    "import ai.djl.training.loss.Loss;\n",
    "import ai.djl.training.optimizer.Optimizer;\n",
    "import ai.djl.training.tracker.Tracker;\n",
    "import ai.djl.translate.Pipeline;\n",
    "import ai.djl.util.PairList;\n",
    "\n",
    "import java.io.IOException;\n",
    "import java.util.Arrays;\n",
    "import java.util.HashMap;\n",
    "import java.util.Map;\n",
    "\n",
    "import tech.tablesaw.api.*;\n",
    "import tech.tablesaw.plotly.api.*;\n",
    "import tech.tablesaw.plotly.components.*;\n",
    "import tech.tablesaw.plotly.Plot;\n",
    "import tech.tablesaw.plotly.components.Figure;\n",
    "import org.apache.commons.lang3.ArrayUtils;"
   ]
  },
  {
   "cell_type": "code",
   "execution_count": null,
   "metadata": {
    "attributes": {
     "classes": [],
     "id": "",
     "n": "1"
    }
   },
   "outputs": [],
   "source": [
    "class Residual extends AbstractBlock {\n",
    "\n",
    "    private static final byte VERSION = 2;\n",
    "\n",
    "    public ParallelBlock block;\n",
    "\n",
    "    public Residual(int numChannels, boolean use1x1Conv, Shape strideShape) {\n",
    "        super(VERSION);\n",
    "\n",
    "        SequentialBlock b1;\n",
    "        SequentialBlock conv1x1;\n",
    "\n",
    "        b1 = new SequentialBlock();\n",
    "\n",
    "        b1.add(Conv2d.builder()\n",
    "                .setFilters(numChannels)\n",
    "                .setKernelShape(new Shape(3, 3))\n",
    "                .optPadding(new Shape(1, 1))\n",
    "                .optStride(strideShape)\n",
    "                .build())\n",
    "                .add(BatchNorm.builder().build())\n",
    "                .add(Activation::relu)\n",
    "                .add(Conv2d.builder()\n",
    "                        .setFilters(numChannels)\n",
    "                        .setKernelShape(new Shape(3, 3))\n",
    "                        .optPadding(new Shape(1, 1))\n",
    "                        .build())\n",
    "                .add(BatchNorm.builder().build());\n",
    "\n",
    "        if (use1x1Conv) {\n",
    "            conv1x1 = new SequentialBlock();\n",
    "            conv1x1.add(Conv2d.builder()\n",
    "                    .setFilters(numChannels)\n",
    "                    .setKernelShape(new Shape(1, 1))\n",
    "                    .optStride(strideShape)\n",
    "                    .build());\n",
    "        } else {\n",
    "            conv1x1 = new SequentialBlock();\n",
    "            conv1x1.add(Blocks.identityBlock());\n",
    "        }\n",
    "\n",
    "        block = addChildBlock(\"residualBlock\", new ParallelBlock(\n",
    "                list -> {\n",
    "                    NDList unit = list.get(0);\n",
    "                    NDList parallel = list.get(1);\n",
    "                    return new NDList(\n",
    "                            unit.singletonOrThrow()\n",
    "                                    .add(parallel.singletonOrThrow())\n",
    "                                    .getNDArrayInternal()\n",
    "                                    .relu());\n",
    "                },\n",
    "                Arrays.asList(b1, conv1x1)));\n",
    "    }\n",
    "\n",
    "    @Override\n",
    "    public String toString() {\n",
    "        return \"Residual()\";\n",
    "    }\n",
    "\n",
    "    @Override\n",
    "    public NDList forward(ParameterStore parameterStore, NDList inputs, boolean training) {\n",
    "        return forward(parameterStore, inputs, training, null);\n",
    "    }\n",
    "\n",
    "    @Override\n",
    "    public NDList forward(ParameterStore parameterStore, NDList inputs, boolean training, PairList<String, Object> pairList) {\n",
    "        return block.forward(parameterStore, inputs, training);\n",
    "    }\n",
    "\n",
    "    @Override\n",
    "    public Shape[] getOutputShapes(NDManager ndManager, Shape[] inputs) {\n",
    "        Shape[] current = inputs;\n",
    "        for (Block block : block.getChildren().values()) {\n",
    "            current = block.getOutputShapes(ndManager, current);\n",
    "        }\n",
    "        return current;\n",
    "    }\n",
    "\n",
    "    @Override\n",
    "    public void initializeChildBlocks(NDManager manager, DataType dataType, Shape... inputShapes) {\n",
    "        block.initialize(manager, dataType, inputShapes);\n",
    "    }\n",
    "}"
   ]
  },
  {
   "cell_type": "markdown",
   "metadata": {},
   "source": [
    "This code generates two types of networks: one where we add the input to the output before applying the ReLU nonlinearity whenever `use1x1Conv` is `true`, and one where we adjust channels and resolution by means of a $1 \\times 1$ convolution before adding. :numref:`fig_resnet_block` illustrates this:\n",
    "\n",
    "![Left: regular ResNet block; Right: ResNet block with 1x1 convolution](https://raw.githubusercontent.com/d2l-ai/d2l-en/master/img/resnet-block.svg)\n",
    "\n",
    ":label:`fig_resnet_block`\n",
    "\n",
    "\n",
    "Now let us look at a situation where the input and output are of the same shape."
   ]
  },
  {
   "cell_type": "code",
   "execution_count": null,
   "metadata": {
    "attributes": {
     "classes": [],
     "id": "",
     "n": "2"
    }
   },
   "outputs": [],
   "source": [
    "NDManager manager = NDManager.newBaseManager();\n",
    "\n",
    "SequentialBlock blk = new SequentialBlock();\n",
    "blk.add(new Residual(3, false, new Shape(1, 1)));\n",
    "\n",
    "NDArray X = manager.randomUniform(0f, 1.0f, new Shape(4, 3, 6, 6));\n",
    "\n",
    "ParameterStore parameterStore = new ParameterStore(manager, true);\n",
    "blk.setInitializer(new XavierInitializer());\n",
    "blk.initialize(manager, DataType.FLOAT32, X.getShape());\n",
    "\n",
    "blk.forward(parameterStore, new NDList(X), false).singletonOrThrow().getShape();"
   ]
  },
  {
   "cell_type": "markdown",
   "metadata": {},
   "source": [
    "We also have the option to halve the output height and width while increasing the number of output channels."
   ]
  },
  {
   "cell_type": "code",
   "execution_count": null,
   "metadata": {
    "attributes": {
     "classes": [],
     "id": "",
     "n": "3"
    }
   },
   "outputs": [],
   "source": [
    "blk = new SequentialBlock();\n",
    "blk.add(new Residual(6, true, new Shape(2, 2)));\n",
    "\n",
    "blk.setInitializer(new XavierInitializer());\n",
    "blk.initialize(manager, DataType.FLOAT32, X.getShape());\n",
    "\n",
    "blk.forward(parameterStore, new NDList(X), false).singletonOrThrow().getShape();"
   ]
  },
  {
   "cell_type": "markdown",
   "metadata": {},
   "source": [
    "## ResNet Model\n",
    "\n",
    "The first two layers of ResNet are the same as those of the GoogLeNet we described before: the $7\\times 7$ convolutional layer with 64 output channels and a stride of 2 is followed by the $3\\times 3$ maximum pooling layer with a stride of 2. The difference is the batch normalization layer added after each convolutional layer in ResNet."
   ]
  },
  {
   "cell_type": "code",
   "execution_count": null,
   "metadata": {},
   "outputs": [],
   "source": [
    "SequentialBlock net = new SequentialBlock();\n",
    "net\n",
    "        .add(\n",
    "                Conv2d.builder()\n",
    "                        .setKernelShape(new Shape(7, 7))\n",
    "                        .optStride(new Shape(2, 2))\n",
    "                        .optPadding(new Shape(3, 3))\n",
    "                        .setFilters(64)\n",
    "                        .build())\n",
    "        .add(BatchNorm.builder().build())\n",
    "        .add(Activation::relu)\n",
    "        .add(Pool.maxPool2dBlock(new Shape(3, 3), new Shape(2, 2), new Shape(1, 1))\n",
    ");"
   ]
  },
  {
   "cell_type": "markdown",
   "metadata": {},
   "source": [
    "GoogLeNet uses four blocks made up of Inception blocks. However, ResNet uses four modules made up of residual blocks, each of which uses several residual blocks with the same number of output channels. The number of channels in the first module is the same as the number of input channels. Since a maximum pooling layer with a stride of 2 has already been used, it is not necessary to reduce the height and width. In the first residual block for each of the subsequent modules, the number of channels is doubled compared with that of the previous module, and the height and width are halved.\n",
    "\n",
    "Now, we implement this module. Note that special processing has been performed on the first module."
   ]
  },
  {
   "cell_type": "code",
   "execution_count": null,
   "metadata": {
    "attributes": {
     "classes": [],
     "id": "",
     "n": "4"
    }
   },
   "outputs": [],
   "source": [
    "public SequentialBlock resnetBlock(int numChannels, int numResiduals, boolean firstBlock) {\n",
    "        SequentialBlock blk = new SequentialBlock();\n",
    "\n",
    "        for (int i = 0; i < numResiduals; i++) {\n",
    "\n",
    "            if (i == 0 && !firstBlock) {\n",
    "                blk.add(new Residual(numChannels, true, new Shape(2, 2)));\n",
    "            } else {\n",
    "                blk.add(new Residual(numChannels, false, new Shape(1, 1)));\n",
    "            }\n",
    "        }\n",
    "        return blk;\n",
    "}"
   ]
  },
  {
   "cell_type": "markdown",
   "metadata": {},
   "source": [
    "Then, we add all the residual blocks to ResNet. Here, two residual blocks are used for each module."
   ]
  },
  {
   "cell_type": "code",
   "execution_count": null,
   "metadata": {
    "attributes": {
     "classes": [],
     "id": "",
     "n": "5"
    }
   },
   "outputs": [],
   "source": [
    "net\n",
    "    .add(resnetBlock(64, 2, true))\n",
    "    .add(resnetBlock(128, 2, false))\n",
    "    .add(resnetBlock(256, 2, false))\n",
    "    .add(resnetBlock(512, 2, false));"
   ]
  },
  {
   "cell_type": "markdown",
   "metadata": {},
   "source": [
    "Finally, just like GoogLeNet, we add a global average pooling layer, followed by the fully connected layer output."
   ]
  },
  {
   "cell_type": "code",
   "execution_count": null,
   "metadata": {},
   "outputs": [],
   "source": [
    "net\n",
    "    .add(Pool.globalAvgPool2dBlock())\n",
    "    .add(Linear.builder().setUnits(10).build());"
   ]
  },
  {
   "cell_type": "markdown",
   "metadata": {},
   "source": [
    "There are 4 convolutional layers in each module (excluding the $1\\times 1$ convolutional layer). Together with the first convolutional layer and the final fully connected layer, there are 18 layers in total. Therefore, this model is commonly known as ResNet-18. By configuring different numbers of channels and residual blocks in the module, we can create different ResNet models, such as the deeper 152-layer ResNet-152. Although the main architecture of ResNet is similar to that of GoogLeNet, ResNet's structure is simpler and easier to modify. All these factors have resulted in the rapid and widespread use of ResNet. :numref:`fig_ResNetFull` is a diagram of the full ResNet-18.\n",
    "\n",
    "![ResNet 18](https://raw.githubusercontent.com/d2l-ai/d2l-en/master/img/resnet18.svg)\n",
    "\n",
    ":label:`fig_ResNetFull`\n",
    "\n",
    "\n",
    "Before training ResNet, let us observe how the input shape changes between different modules in ResNet. As in all previous architectures, the resolution decreases while the number of channels increases up until the point where a global average pooling layer aggregates all features."
   ]
  },
  {
   "cell_type": "code",
   "execution_count": null,
   "metadata": {
    "attributes": {
     "classes": [],
     "id": "",
     "n": "6"
    }
   },
   "outputs": [],
   "source": [
    "X = manager.randomUniform(0f, 1f, new Shape(1, 1, 224, 224));\n",
    "net.setInitializer(new XavierInitializer());\n",
    "net.initialize(manager, DataType.FLOAT32, X.getShape());\n",
    "Shape currentShape = X.getShape();\n",
    "\n",
    "for (int i = 0; i < net.getChildren().size(); i++) {\n",
    "\n",
    "    X = net.getChildren().get(i).getValue().forward(parameterStore, new NDList(X), false).singletonOrThrow();\n",
    "    currentShape = X.getShape();\n",
    "    System.out.println(net.getChildren().get(i).getKey() + \" layer output : \" + currentShape);\n",
    "}"
   ]
  },
  {
   "cell_type": "markdown",
   "metadata": {},
   "source": [
    "## Data Acquisition and Training\n",
    "\n",
    "We train ResNet on the Fashion-MNIST dataset, just like before. The only thing that has changed is the learning rate that decreased again, due to the more complex architecture."
   ]
  },
  {
   "cell_type": "code",
   "execution_count": null,
   "metadata": {},
   "outputs": [],
   "source": [
    "int batchSize = 256;\n",
    "float lr = 0.05f;\n",
    "int numEpochs = 10;\n",
    "\n",
    "double[] trainLoss;\n",
    "double[] testAccuracy;\n",
    "double[] epochCount;\n",
    "double[] trainAccuracy;\n",
    "\n",
    "epochCount = new double[numEpochs];\n",
    "\n",
    "for (int i = 0; i < epochCount.length; i++) {\n",
    "    epochCount[i] = (i + 1);\n",
    "}\n",
    "\n",
    "FashionMnist trainIter =\n",
    "                FashionMnist.builder()\n",
    "                        .optPipeline(new Pipeline().add(new Resize(96)).add(new ToTensor()))\n",
    "                        .optUsage(Dataset.Usage.TRAIN)\n",
    "                        .setSampling(batchSize, true)\n",
    "                        .build();\n",
    "\n",
    "FashionMnist testIter =\n",
    "                FashionMnist.builder()\n",
    "                        .optPipeline(new Pipeline().add(new Resize(96)).add(new ToTensor()))\n",
    "                        .optUsage(Dataset.Usage.TEST)\n",
    "                        .setSampling(batchSize, true)\n",
    "                        .build();\n",
    "\n",
    "trainIter.prepare();\n",
    "testIter.prepare();\n",
    "\n",
    "Model model = Model.newInstance(\"cnn\");\n",
    "model.setBlock(net);\n",
    "\n",
    "Loss loss = Loss.softmaxCrossEntropyLoss();\n",
    "\n",
    "Tracker lrt = Tracker.fixed(lr);\n",
    "Optimizer sgd = Optimizer.sgd().setLearningRateTracker(lrt).build();\n",
    "\n",
    "DefaultTrainingConfig config = new DefaultTrainingConfig(loss).optOptimizer(sgd) // Optimizer (loss function)\n",
    "                .addEvaluator(new Accuracy()) // Model Accuracy\n",
    "                .addTrainingListeners(TrainingListener.Defaults.logging()); // Logging\n",
    "\n",
    "Trainer trainer = model.newTrainer(config);"
   ]
  },
  {
   "cell_type": "code",
   "execution_count": null,
   "metadata": {},
   "outputs": [],
   "source": [
    "Map<String, double[]> evaluatorMetrics = new HashMap<>();\n",
    "double avgTrainTimePerEpoch = 0;"
   ]
  },
  {
   "cell_type": "code",
   "execution_count": null,
   "metadata": {},
   "outputs": [],
   "source": [
    "Training.trainingChapter6(trainIter, testIter, numEpochs, trainer, evaluatorMetrics, avgTrainTimePerEpoch);"
   ]
  },
  {
   "cell_type": "code",
   "execution_count": null,
   "metadata": {},
   "outputs": [],
   "source": [
    "trainLoss = evaluatorMetrics.get(\"train_epoch_SoftmaxCrossEntropyLoss\");\n",
    "trainAccuracy = evaluatorMetrics.get(\"train_epoch_Accuracy\");\n",
    "testAccuracy = evaluatorMetrics.get(\"validate_epoch_Accuracy\");\n",
    "\n",
    "System.out.printf(\"loss %.3f,\", trainLoss[numEpochs - 1]);\n",
    "System.out.printf(\" train acc %.3f,\", trainAccuracy[numEpochs - 1]);\n",
    "System.out.printf(\" test acc %.3f\\n\", testAccuracy[numEpochs - 1]);\n",
    "System.out.printf(\"%.1f examples/sec\", trainIter.size() / (avgTrainTimePerEpoch / Math.pow(10, 9)));\n",
    "System.out.println();"
   ]
  },
  {
   "cell_type": "markdown",
   "metadata": {},
   "source": [
    "![Contour Gradient Descent.](https://d2l-java-resources.s3.amazonaws.com/img/chapter_convolution-modern-cnn-resnet.png)"
   ]
  },
  {
   "cell_type": "code",
   "execution_count": null,
   "metadata": {},
   "outputs": [],
   "source": [
    "String[] lossLabel = new String[trainLoss.length + testAccuracy.length + trainAccuracy.length];\n",
    "\n",
    "Arrays.fill(lossLabel, 0, trainLoss.length, \"train loss\");\n",
    "Arrays.fill(lossLabel, trainAccuracy.length, trainLoss.length + trainAccuracy.length, \"train acc\");\n",
    "Arrays.fill(lossLabel, trainLoss.length + trainAccuracy.length,\n",
    "                trainLoss.length + testAccuracy.length + trainAccuracy.length, \"test acc\");\n",
    "\n",
    "Table data = Table.create(\"Data\").addColumns(\n",
    "            DoubleColumn.create(\"epoch\", ArrayUtils.addAll(epochCount, ArrayUtils.addAll(epochCount, epochCount))),\n",
    "            DoubleColumn.create(\"metrics\", ArrayUtils.addAll(trainLoss, ArrayUtils.addAll(trainAccuracy, testAccuracy))),\n",
    "            StringColumn.create(\"lossLabel\", lossLabel)\n",
    ");\n",
    "\n",
    "render(LinePlot.create(\"\", data, \"epoch\", \"metrics\", \"lossLabel\"),\"text/html\");"
   ]
  },
  {
   "cell_type": "markdown",
   "metadata": {},
   "source": [
    "## Summary\n",
    "\n",
    "* Residual blocks allow for a parametrization relative to the identity function $f(\\mathbf{x}) = \\mathbf{x}$.\n",
    "* Adding residual blocks increases the function complexity in a well-defined manner.\n",
    "* We can train an effective deep neural network by having residual blocks pass through cross-layer data channels.\n",
    "* ResNet had a major influence on the design of subsequent deep neural networks, both for convolutional and sequential nature.\n",
    "\n",
    "\n",
    "## Exercises\n",
    "\n",
    "1. Refer to Table 1 in the :cite:`He.Zhang.Ren.ea.2016` to\n",
    "   implement different variants.\n",
    "1. For deeper networks, ResNet introduces a \"bottleneck\" architecture to reduce\n",
    "   model complexity. Try to implement it.\n",
    "1. In subsequent versions of ResNet, the author changed the \"convolution, batch\n",
    "   normalization, and activation\" architecture to the \"batch normalization,\n",
    "   activation, and convolution\" architecture. Make this improvement\n",
    "   yourself. See Figure 1 in :cite:`He.Zhang.Ren.ea.2016*1`\n",
    "   for details.\n",
    "1. Prove that if $\\mathbf{x}$ is generated by a ReLU, the ResNet block does indeed include the identity function.\n",
    "1. Why cannot we just increase the complexity of functions without bound, even if the function classes are nested?"
   ]
  }
 ],
 "metadata": {
  "kernelspec": {
   "display_name": "Java",
   "language": "java",
   "name": "java"
  },
  "language_info": {
   "codemirror_mode": "java",
   "file_extension": ".jshell",
   "mimetype": "text/x-java-source",
   "name": "Java",
   "pygments_lexer": "java",
   "version": "12.0.2+9-Ubuntu-116.04"
  }
 },
 "nbformat": 4,
 "nbformat_minor": 2
}
