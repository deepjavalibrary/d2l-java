{
 "cells": [
  {
   "cell_type": "markdown",
   "metadata": {
    "origin_pos": 0
   },
   "source": [
    "# Sequence Models\n",
    ":label:`sec_sequence`\n",
    "\n",
    "Imagine that you are watching movies on Netflix. As a good Netflix user, you decide to rate each of the movies religiously. After all, a good movie is a good movie, and you want to watch more of them, right? As it turns out, things are not quite so simple. People's opinions on movies can change quite significantly over time. In fact, psychologists even have names for some of the effects:\n",
    "\n",
    "* There is *anchoring*, based on someone else's opinion. For instance, after the Oscar awards, ratings for the corresponding movie go up, even though it is still the same movie. This effect persists for a few months until the award is forgotten. It has been shown that the effect lifts rating by over half a point\n",
    ":cite:`Wu.Ahmed.Beutel.ea.2017`.\n",
    "* There is the *hedonic adaptation*, where humans quickly adapt to accept an improved or a worsened situation as the new normal. For instance, after watching many good movies, the expectations that the next movie is equally good or better are high. Hence, even an average movie might be considered as bad after many great ones are watched.\n",
    "* There is *seasonality*. Very few viewers like to watch a Santa Claus movie in August.\n",
    "* In some cases, movies become unpopular due to the misbehaviors of directors or actors in the production.\n",
    "* Some movies become cult movies, because they were almost comically bad. *Plan 9 from Outer Space* and *Troll 2* achieved a high degree of notoriety for this reason.\n",
    "\n",
    "In short, movie ratings are anything but stationary. Thus, using temporal dynamics\n",
    "led to more accurate movie recommendations :cite:`Koren.2009`.\n",
    "Of course, sequence data are not just about movie ratings. The following gives more illustrations.\n",
    "\n",
    "* Many users have highly particular behavior when it comes to the time when they open apps. For instance, social media apps are much more popular after school with students. Stock market trading apps are more commonly used when the markets are open.\n",
    "* It is much harder to predict tomorrow's stock prices than to fill in the blanks for a stock price we missed yesterday, even though both are just a matter of estimating one number. After all, foresight is so much harder than hindsight. In statistics, the former (predicting beyond the known observations) is called *extrapolation* whereas the latter (estimating between the existing observations) is called *interpolation*.\n",
    "* Music, speech, text, and videos are all sequential in nature. If we were to permute them they would make little sense. The headline *dog bites man* is much less surprising than *man bites dog*, even though the words are identical.\n",
    "* Earthquakes are strongly correlated, i.e., after a massive earthquake there are very likely several smaller aftershocks, much more so than without the strong quake. In fact, earthquakes are spatiotemporally correlated, i.e., the aftershocks typically occur within a short time span and in close proximity.\n",
    "* Humans interact with each other in a sequential nature, as can be seen in Twitter fights, dance patterns, and debates.\n",
    "\n",
    "## Statistical Tools\n",
    "\n",
    "We need statistical tools and new deep neural network architectures to deal with sequence data. To keep things simple, we use the stock price (FTSE 100 index) illustrated in :numref:`fig_ftse100` as an example.\n",
    "\n",
    "![FTSE 100 index over about 30 years.](https://raw.githubusercontent.com/d2l-ai/d2l-en/master/img/ftse100.png)\n",
    ":width:`400px`\n",
    ":label:`fig_ftse100`\n",
    "\n",
    "\n",
    "Let us denote the prices by $x_t$, i.e., at *time step* $t \\in \\mathbb{Z}^+$ we observe price $x_t$.\n",
    "Note that for sequences in this text,\n",
    "$t$ will typically be discrete and vary over integers or its subset.\n",
    "Suppose that\n",
    "a trader who wants to do well in the stock market on day $t$ predicts $x_t$ via\n",
    "\n",
    "$$x_t \\sim P(x_t \\mid x_{t-1}, \\ldots, x_1).$$\n",
    "\n",
    "### Autoregressive Models\n",
    "\n",
    "In order to achieve this, our trader could use a regression model such as the one that we trained in :numref:`sec_linear_concise`.\n",
    "There is just one major problem: the number of inputs, $x_{t-1}, \\ldots, x_1$ varies, depending on $t$.\n",
    "That is to say, the number increases with the amount of data that we encounter, and we will need an approximation to make this computationally tractable.\n",
    "Much of what follows in this chapter will revolve around how to estimate $P(x_t \\mid x_{t-1}, \\ldots, x_1)$ efficiently. In a nutshell it boils down to two strategies as follows.\n",
    "\n",
    "First, assume that the potentially rather long sequence $x_{t-1}, \\ldots, x_1$ is not really necessary.\n",
    "In this case we might content ourselves with some timespan of length $\\tau$ and only use $x_{t-1}, \\ldots, x_{t-\\tau}$ observations. The immediate benefit is that now the number of arguments is always the same, at least for $t > \\tau$. This allows us to train a deep network as indicated above. Such models will be called *autoregressive models*, as they quite literally perform regression on themselves.\n",
    "\n",
    "The second strategy, shown in :numref:`fig_sequence-model`, is to keep some summary $h_t$ of the past observations, and at the same time update $h_t$ in addition to the prediction $\\hat{x}_t$.\n",
    "This leads to models that estimate $x_t$ with $\\hat{x}_t = P(x_t \\mid h_{t})$ and moreover updates of the form  $h_t = g(h_{t-1}, x_{t-1})$. Since $h_t$ is never observed, these models are also called *latent autoregressive models*.\n",
    "\n",
    "![A latent autoregressive model.](https://raw.githubusercontent.com/d2l-ai/d2l-en/master/img/sequence-model.svg)\n",
    ":label:`fig_sequence-model`\n",
    "\n",
    "Both cases raise the obvious question of how to generate training data. One typically uses historical observations to predict the next observation given the ones up to right now. Obviously we do not expect time to stand still. However, a common assumption is that while the specific values of $x_t$ might change, at least the dynamics of the sequence itself will not. This is reasonable, since novel dynamics are just that, novel and thus not predictable using data that we have so far. Statisticians call dynamics that do not change *stationary*.\n",
    "Regardless of what we do, we will thus get an estimate of the entire sequence via\n",
    "\n",
    "$$P(x_1, \\ldots, x_T) = \\prod_{t=1}^T P(x_t \\mid x_{t-1}, \\ldots, x_1).$$\n",
    "\n",
    "Note that the above considerations still hold if we deal with discrete objects, such as words, rather than continuous numbers. The only difference is that in such a situation we need to use a classifier rather than a regression model to estimate $P(x_t \\mid  x_{t-1}, \\ldots, x_1)$.\n",
    "\n",
    "### Markov Models\n",
    "\n",
    "Recall the approximation that in an autoregressive model we use only $x_{t-1}, \\ldots, x_{t-\\tau}$ instead of $x_{t-1}, \\ldots, x_1$ to estimate $x_t$. Whenever this approximation is accurate we say that the sequence satisfies a *Markov condition*. In particular, if $\\tau = 1$, we have a *first-order Markov model* and $P(x)$ is given by\n",
    "\n",
    "$$P(x_1, \\ldots, x_T) = \\prod_{t=1}^T P(x_t \\mid x_{t-1}) \\text{ where } P(x_1 \\mid x_0) = P(x_1).$$\n",
    "\n",
    "Such models are particularly nice whenever $x_t$ assumes only a discrete value, since in this case dynamic programming can be used to compute values along the chain exactly. For instance, we can compute $P(x_{t+1} \\mid x_{t-1})$ efficiently:\n",
    "\n",
    "$$\\begin{aligned}\n",
    "P(x_{t+1} \\mid x_{t-1})\n",
    "&= \\frac{\\sum_{x_t} P(x_{t+1}, x_t, x_{t-1})}{P(x_{t-1})}\\\\\n",
    "&= \\frac{\\sum_{x_t} P(x_{t+1} \\mid x_t, x_{t-1}) P(x_t, x_{t-1})}{P(x_{t-1})}\\\\\n",
    "&= \\sum_{x_t} P(x_{t+1} \\mid x_t) P(x_t \\mid x_{t-1})\n",
    "\\end{aligned}\n",
    "$$\n",
    "\n",
    "by using the fact that we only need to take into account a very short history of past observations: $P(x_{t+1} \\mid x_t, x_{t-1}) = P(x_{t+1} \\mid x_t)$.\n",
    "Going into details of dynamic programming is beyond the scope of this section. Control and reinforcement learning algorithms use such tools extensively.\n",
    "\n",
    "### Causality\n",
    "\n",
    "In principle, there is nothing wrong with unfolding $P(x_1, \\ldots, x_T)$ in reverse order. After all, by conditioning we can always write it via\n",
    "\n",
    "$$P(x_1, \\ldots, x_T) = \\prod_{t=T}^1 P(x_t \\mid x_{t+1}, \\ldots, x_T).$$\n",
    "\n",
    "In fact, if we have a Markov model, we can obtain a reverse conditional probability distribution, too. In many cases, however, there exists a natural direction for the data, namely going forward in time. It is clear that future events cannot influence the past. Hence, if we change $x_t$, we may be able to influence what happens for $x_{t+1}$ going forward but not the converse. That is, if we change $x_t$, the distribution over past events will not change. Consequently, it ought to be easier to explain $P(x_{t+1} \\mid x_t)$ rather than $P(x_t \\mid x_{t+1})$. For instance, it has been shown that in some cases we can find $x_{t+1} = f(x_t) + \\epsilon$ for some additive noise $\\epsilon$, whereas the converse is not true :cite:`Hoyer.Janzing.Mooij.ea.2009`. This is great news, since it is typically the forward direction that we are interested in estimating.\n",
    "The book by Peters et al. has\n",
    "explained more on this topic :cite:`Peters.Janzing.Scholkopf.2017`.\n",
    "We are barely scratching the surface of it.\n",
    "\n",
    "\n",
    "## Training\n",
    "\n",
    "After reviewing so many statistical tools,\n",
    "let us try this out in practice.\n",
    "We begin by generating some data.\n",
    "To keep things simple we generate our sequence data by using a sine function with some additive noise for time steps $1, 2, \\ldots, 1000$.\n"
   ]
  },
  {
   "cell_type": "code",
   "execution_count": null,
   "metadata": {},
   "outputs": [],
   "source": [
    "%mavenRepo snapshots https://oss.sonatype.org/content/repositories/snapshots/\n",
    "\n",
    "%maven ai.djl:api:0.11.0-SNAPSHOT\n",
    "%maven org.slf4j:slf4j-api:1.7.26\n",
    "%maven org.slf4j:slf4j-simple:1.7.26\n",
    "\n",
    "%maven ai.djl.mxnet:mxnet-engine:0.11.0-SNAPSHOT\n",
    "%maven ai.djl.mxnet:mxnet-native-auto:1.7.0-backport"
   ]
  },
  {
   "cell_type": "code",
   "execution_count": null,
   "metadata": {},
   "outputs": [],
   "source": [
    "%load ../utils/plot-utils\n",
    "%load ../utils/Functions.java"
   ]
  },
  {
   "cell_type": "code",
   "execution_count": null,
   "metadata": {},
   "outputs": [],
   "source": [
    "import java.util.Arrays;\n",
    "\n",
    "import tech.tablesaw.plotly.traces.*;\n",
    "import tech.tablesaw.plotly.components.*;\n",
    "\n",
    "import ai.djl.ndarray.*;\n",
    "import ai.djl.ndarray.types.*;\n",
    "import ai.djl.ndarray.index.*;\n",
    "import ai.djl.nn.*;\n",
    "import ai.djl.nn.core.*;\n",
    "import ai.djl.training.*;\n",
    "import ai.djl.training.dataset.*;\n",
    "import ai.djl.training.initializer.*;\n",
    "import ai.djl.training.loss.*;\n",
    "import ai.djl.training.optimizer.*;\n",
    "import ai.djl.training.tracker.*;\n",
    "import ai.djl.training.listener.*;\n",
    "import ai.djl.translate.*;\n",
    "import ai.djl.inference.*;\n",
    "import ai.djl.Model;"
   ]
  },
  {
   "cell_type": "code",
   "execution_count": null,
   "metadata": {},
   "outputs": [],
   "source": [
    "NDManager manager = NDManager.newBaseManager();"
   ]
  },
  {
   "cell_type": "code",
   "execution_count": null,
   "metadata": {},
   "outputs": [],
   "source": [
    "public static Figure plot(double[] x, double[] y, String xLabel, String yLabel) {\n",
    "    ScatterTrace trace = ScatterTrace.builder(x,y)\n",
    "        .mode(ScatterTrace.Mode.LINE)\n",
    "        .build();\n",
    "\n",
    "    Layout layout = Layout.builder()\n",
    "            .showLegend(true)\n",
    "            .xAxis(Axis.builder().title(xLabel).build())\n",
    "            .yAxis(Axis.builder().title(yLabel).build())\n",
    "            .build();\n",
    "\n",
    "    return new Figure(layout, trace);\n",
    "}"
   ]
  },
  {
   "cell_type": "code",
   "execution_count": null,
   "metadata": {},
   "outputs": [],
   "source": [
    "int T = 1000; //Generate a total of 1000 points\n",
    "NDArray time = manager.arange(1f, T+1);\n",
    "NDArray x = time.mul(0.01).sin().add(\n",
    "    manager.randomNormal(0f, 0.2f, new Shape(T), DataType.FLOAT32));\n",
    "\n",
    "double[] xAxis = Functions.floatToDoubleArray(time.toFloatArray());\n",
    "double[] yAxis = Functions.floatToDoubleArray(x.toFloatArray());\n",
    "\n",
    "plot(xAxis, yAxis, \"time\", \"x\");"
   ]
  },
  {
   "cell_type": "markdown",
   "metadata": {
    "origin_pos": 6
   },
   "source": [
    "Next, we need to turn such a sequence into features and labels that our model can train on.\n",
    "Based on the embedding dimension $\\tau$ we map the data into pairs $y_t = x_t$ and $\\mathbf{x}_t = [x_{t-\\tau}, \\ldots, x_{t-1}]$.\n",
    "The astute reader might have noticed that this gives us $\\tau$ fewer data examples, since we do not have sufficient history for the first $\\tau$ of them.\n",
    "A simple fix, in particular if the sequence is long,\n",
    "is to discard those few terms.\n",
    "Alternatively we could pad the sequence with zeros.\n",
    "Here we only use the first 600 feature-label pairs for training.\n"
   ]
  },
  {
   "cell_type": "code",
   "execution_count": null,
   "metadata": {},
   "outputs": [],
   "source": [
    "int tau = 4;\n",
    "NDArray features = manager.zeros(new Shape(T - tau, tau));\n",
    "\n",
    "for (int i = 0; i < tau; i++) {\n",
    "    features.set(new NDIndex(\":, {}\", i), x.get(new NDIndex(\"{}:{}\", i, T - tau + i)));\n",
    "}\n",
    "NDArray labels = x.get(new NDIndex(\"\" + tau + \":\")).reshape(new Shape(-1,1));"
   ]
  },
  {
   "cell_type": "code",
   "execution_count": null,
   "metadata": {},
   "outputs": [],
   "source": [
    "int batchSize = 16;\n",
    "int nTrain = 600;\n",
    "// Only the first `nTrain` examples are used for training\n",
    "ArrayDataset trainIter = new ArrayDataset.Builder()\n",
    "    .setData(features.get(new NDIndex(\":{}\", nTrain)))\n",
    "    .optLabels(labels.get(new NDIndex(\":{}\", nTrain)))\n",
    "    .setSampling(batchSize, true)\n",
    "    .build();"
   ]
  },
  {
   "cell_type": "markdown",
   "metadata": {
    "origin_pos": 10
   },
   "source": [
    "Here we keep the architecture fairly simple:\n",
    "just an MLP with two fully-connected layers, ReLU activation, and squared loss.\n"
   ]
  },
  {
   "cell_type": "code",
   "execution_count": null,
   "metadata": {},
   "outputs": [],
   "source": [
    "// A simple MLP\n",
    "public static SequentialBlock getNet() {\n",
    "    SequentialBlock net = new SequentialBlock();\n",
    "    net.add(Linear.builder().setUnits(10).build());\n",
    "    net.add(Activation::relu);\n",
    "    net.add(Linear.builder().setUnits(1).build());\n",
    "    return net;\n",
    "}"
   ]
  },
  {
   "cell_type": "markdown",
   "metadata": {
    "origin_pos": 14
   },
   "source": [
    "Now we are ready to train the model. The code below is essentially identical to the training loop in previous sections,\n",
    "such as :numref:`sec_linear_concise`.\n",
    "Thus, we will not delve into much detail.\n"
   ]
  },
  {
   "cell_type": "code",
   "execution_count": null,
   "metadata": {},
   "outputs": [],
   "source": [
    "// We add this outside of the function `train` to keep a strong reference to the trainer object in the notebook (else sometimes it may get closed)\n",
    "Trainer trainer = null; "
   ]
  },
  {
   "cell_type": "code",
   "execution_count": null,
   "metadata": {
    "scrolled": false
   },
   "outputs": [],
   "source": [
    "public static Model train(SequentialBlock net, ArrayDataset dataset, int batchSize, int numEpochs, float learningRate) \n",
    "    throws IOException, TranslateException {\n",
    "    // Square Loss\n",
    "    Loss loss = Loss.l2Loss();\n",
    "    Tracker lrt = Tracker.fixed(learningRate);\n",
    "    Optimizer sgd = Optimizer.adam().optLearningRateTracker(lrt).build();\n",
    "    \n",
    "    DefaultTrainingConfig config = new DefaultTrainingConfig(loss)\n",
    "        .optOptimizer(sgd) // Optimizer (loss function)\n",
    "        .optInitializer(new XavierInitializer(), \"\")\n",
    "        .addTrainingListeners(TrainingListener.Defaults.logging()); // Logging\n",
    "    \n",
    "    Model model = Model.newInstance(\"sequence\");\n",
    "    model.setBlock(net);\n",
    "    trainer = model.newTrainer(config);\n",
    "    \n",
    "    for (int epoch = 1; epoch <= numEpochs; epoch++) {\n",
    "        // Iterate over dataset\n",
    "        for (Batch batch : trainer.iterateDataset(dataset)) {\n",
    "            // Update loss and evaulator\n",
    "            EasyTrain.trainBatch(trainer, batch);\n",
    "\n",
    "            // Update parameters\n",
    "            trainer.step();\n",
    "\n",
    "            batch.close();\n",
    "        }\n",
    "        \n",
    "        // reset training and validation evaluators at end of epoch\n",
    "        trainer.notifyListeners(listener -> listener.onEpoch(trainer));\n",
    "        System.out.printf(\"Epoch %d\\n\", epoch);\n",
    "        System.out.printf(\"Loss %f\\n\", trainer.getTrainingResult().getTrainLoss());\n",
    "        \n",
    "        \n",
    "    }\n",
    "    return model;\n",
    "}\n",
    "SequentialBlock net = getNet();\n",
    "Model model = train(net, trainIter, batchSize, 5, 0.01f);"
   ]
  },
  {
   "cell_type": "markdown",
   "metadata": {
    "origin_pos": 18
   },
   "source": [
    "## Prediction\n",
    "\n",
    "Since the training loss is small, we would expect our model to work well. Let us see what this means in practice. The first thing to check is how well the model is able to predict what happens just in the next time step,\n",
    "namely the *one-step-ahead prediction*.\n"
   ]
  },
  {
   "cell_type": "code",
   "execution_count": null,
   "metadata": {},
   "outputs": [],
   "source": [
    "Translator translator = new NoopTranslator(null);\n",
    "Predictor predictor = model.newPredictor(translator);\n",
    "\n",
    "NDArray onestepPreds = ((NDList) predictor.predict(new NDList(features))).get(0);\n",
    "\n",
    "ScatterTrace trace = ScatterTrace.builder(Functions.floatToDoubleArray(time.toFloatArray()), \n",
    "                                          Functions.floatToDoubleArray(x.toFloatArray()))\n",
    "                        .mode(ScatterTrace.Mode.LINE)\n",
    "                        .name(\"data\")\n",
    "                        .build();\n",
    "\n",
    "ScatterTrace trace2 = ScatterTrace.builder(Functions.floatToDoubleArray(time.get(new NDIndex(\"{}:\", tau)).toFloatArray()),\n",
    "                                           Functions.floatToDoubleArray(onestepPreds.toFloatArray()))\n",
    "                        .mode(ScatterTrace.Mode.LINE)\n",
    "                        .name(\"1-step preds\")\n",
    "                        .build();\n",
    "\n",
    "    Layout layout = Layout.builder()\n",
    "                    .showLegend(true)\n",
    "                    .xAxis(Axis.builder().title(\"time\").build())\n",
    "                    .yAxis(Axis.builder().title(\"x\").build())\n",
    "                    .build();\n",
    "\n",
    "new Figure(layout, trace, trace2);"
   ]
  },
  {
   "cell_type": "markdown",
   "metadata": {
    "origin_pos": 20
   },
   "source": [
    "The one-step-ahead predictions look nice, just as we expected.\n",
    "Even beyond 604 (`n_train + tau`) observations the predictions still look trustworthy.\n",
    "However, there is just one little problem to this:\n",
    "if we observe sequence data only until time step 604, we cannot hope to receive the inputs for all the future one-step-ahead predictions.\n",
    "Instead, we need to work our way forward one step at a time:\n",
    "\n",
    "$$\n",
    "\\hat{x}_{605} = f(x_{601}, x_{602}, x_{603}, x_{604}), \\\\\n",
    "\\hat{x}_{606} = f(x_{602}, x_{603}, x_{604}, \\hat{x}_{605}), \\\\\n",
    "\\hat{x}_{607} = f(x_{603}, x_{604}, \\hat{x}_{605}, \\hat{x}_{606}),\\\\\n",
    "\\hat{x}_{608} = f(x_{604}, \\hat{x}_{605}, \\hat{x}_{606}, \\hat{x}_{607}),\\\\\n",
    "\\hat{x}_{609} = f(\\hat{x}_{605}, \\hat{x}_{606}, \\hat{x}_{607}, \\hat{x}_{608}),\\\\\n",
    "\\ldots\n",
    "$$\n",
    "\n",
    "Generally, for an observed sequence up to $x_t$, its predicted output $\\hat{x}_{t+k}$ at time step $t+k$ is called the *$k$-step-ahead prediction*. Since we have observed up to $x_{604}$, its $k$-step-ahead prediction is $\\hat{x}_{604+k}$.\n",
    "In other words, we will have to use our own predictions to make multistep-ahead predictions.\n",
    "Let us see how well this goes.\n"
   ]
  },
  {
   "cell_type": "code",
   "execution_count": null,
   "metadata": {
    "scrolled": false
   },
   "outputs": [],
   "source": [
    "NDArray multiStepPreds = manager.zeros(new Shape(T));\n",
    "multiStepPreds.set(new NDIndex(\":{}\", nTrain + tau), x.get(new NDIndex(\":{}\", nTrain + tau)));\n",
    "for (int i = nTrain + tau; i < T; i++) {\n",
    "    NDArray tempX = multiStepPreds.get(new NDIndex(\"{}:{}\", i - tau, i)).reshape(new Shape(1, -1));\n",
    "    NDArray prediction = ((NDList) predictor.predict(new NDList(tempX))).get(0);\n",
    "    multiStepPreds.set(new NDIndex(i), prediction);\n",
    "}\n",
    "\n",
    "ScatterTrace trace = ScatterTrace.builder(Functions.floatToDoubleArray(time.toFloatArray()), \n",
    "                                          Functions.floatToDoubleArray(x.toFloatArray()))\n",
    "                    .mode(ScatterTrace.Mode.LINE)\n",
    "                    .name(\"data\")\n",
    "                    .build();\n",
    "\n",
    "ScatterTrace trace2 = ScatterTrace.builder(Functions.floatToDoubleArray(time.get(new NDIndex(\"{}:\", tau)).toFloatArray()),\n",
    "                                           Functions.floatToDoubleArray(onestepPreds.toFloatArray()))\n",
    "                        .mode(ScatterTrace.Mode.LINE)\n",
    "                        .name(\"1-step preds\")\n",
    "                        .build();\n",
    "\n",
    "ScatterTrace trace3 = ScatterTrace.builder(Functions.floatToDoubleArray(time.get(\n",
    "                                                new NDIndex(\"{}:\", nTrain + tau)).toFloatArray()),\n",
    "                                           Functions.floatToDoubleArray(multiStepPreds.get(\n",
    "                                               new NDIndex(\"{}:\", nTrain + tau)).toFloatArray()))\n",
    "                        .mode(ScatterTrace.Mode.LINE)\n",
    "                        .name(\"multistep preds\")\n",
    "                        .build();\n",
    "\n",
    "    Layout layout = Layout.builder()\n",
    "                    .showLegend(true)\n",
    "                    .xAxis(Axis.builder().title(\"time\").build())\n",
    "                    .yAxis(Axis.builder().title(\"x\").build())\n",
    "                    .build();\n",
    "\n",
    "new Figure(layout, trace, trace2, trace3);"
   ]
  },
  {
   "cell_type": "markdown",
   "metadata": {
    "origin_pos": 24
   },
   "source": [
    "As the above example shows, this is a spectacular failure. The predictions decay to a constant pretty quickly after a few prediction steps.\n",
    "Why did the algorithm work so poorly?\n",
    "This is ultimately due to the fact that the errors build up.\n",
    "Let us say that after step 1 we have some error $\\epsilon_1 = \\bar\\epsilon$.\n",
    "Now the *input* for step 2 is perturbed by $\\epsilon_1$, hence we suffer some error in the order of $\\epsilon_2 = \\bar\\epsilon + c \\epsilon_1$ for some constant $c$, and so on. The error can diverge rather rapidly from the true observations. This is a common phenomenon. For instance, weather forecasts for the next 24 hours tend to be pretty accurate but beyond that the accuracy declines rapidly. We will discuss methods for improving this throughout this chapter and beyond.\n",
    "\n",
    "Let us take a closer look at the difficulties in $k$-step-ahead predictions\n",
    "by computing predictions on the entire sequence for $k = 1, 4, 16, 64$.\n"
   ]
  },
  {
   "cell_type": "code",
   "execution_count": null,
   "metadata": {},
   "outputs": [],
   "source": [
    "int maxSteps = 64;\n",
    "\n",
    "NDArray features = manager.zeros(new Shape(T - tau - maxSteps + 1, tau + maxSteps));\n",
    "// Column `i` (`i` < `tau`) are observations from `x` for time steps from\n",
    "// `i + 1` to `i + T - tau - maxSteps + 1`\n",
    "for (int i = 0; i < tau; i++) {\n",
    "    features.set(new NDIndex(\":, {}\", i), x.get(new NDIndex(\"{}:{}\", i, i + T - tau - maxSteps + 1)));\n",
    "}\n",
    "// Column `i` (`i` >= `tau`) are the (`i - tau + 1`)-step-ahead predictions for\n",
    "// time steps from `i + 1` to `i + T - tau - maxSteps + 1`\n",
    "for (int i = tau; i < tau + maxSteps; i++) {\n",
    "    NDArray tempX = features.get(new NDIndex(\":, {}:{}\", i - tau, i));\n",
    "    NDArray prediction = ((NDList) predictor.predict(new NDList(tempX))).get(0);\n",
    "    features.set(new NDIndex(\":, {}\", i), prediction.reshape(-1));\n",
    "}"
   ]
  },
  {
   "cell_type": "code",
   "execution_count": null,
   "metadata": {},
   "outputs": [],
   "source": [
    "int[] steps = new int[] {1, 4, 16, 64};\n",
    "\n",
    "ScatterTrace[] traces = new ScatterTrace[4];\n",
    "\n",
    "for (int i = 0; i < traces.length; i++) {\n",
    "    int step = steps[i];\n",
    "    traces[i] = ScatterTrace.builder(Functions.floatToDoubleArray(time.get(new NDIndex(\"{}:{}\", tau + step - 1, T - maxSteps + i)).toFloatArray()), \n",
    "                                     Functions.floatToDoubleArray(features.get(\n",
    "                                         new NDIndex(\":,{}\", tau + step - 1)).toFloatArray())\n",
    "                                    )\n",
    "                .mode(ScatterTrace.Mode.LINE)\n",
    "                .name(step + \"-step preds\")\n",
    "                .build();\n",
    "}\n",
    "\n",
    "\n",
    "    Layout layout = Layout.builder()\n",
    "                    .showLegend(true)\n",
    "                    .xAxis(Axis.builder().title(\"time\").build())\n",
    "                    .yAxis(Axis.builder().title(\"x\").build())\n",
    "                    .build();\n",
    "\n",
    "new Figure(layout, traces);"
   ]
  },
  {
   "cell_type": "markdown",
   "metadata": {
    "origin_pos": 29
   },
   "source": [
    "This clearly illustrates how the quality of the prediction changes as we try to predict further into the future.\n",
    "While the 4-step-ahead predictions still look good, anything beyond that is almost useless.\n",
    "\n",
    "\n",
    "## Summary\n",
    "\n",
    "* There is quite a difference in difficulty between interpolation and extrapolation. Consequently, if you have a sequence, always respect the temporal order of the data when training, i.e., never train on future data.\n",
    "* Sequence models require specialized statistical tools for estimation. Two popular choices are autoregressive models and latent-variable autoregressive models.\n",
    "* For causal models (e.g., time going forward), estimating the forward direction is typically a lot easier than the reverse direction.\n",
    "* For an observed sequence up to time step $t$, its predicted output at time step $t+k$ is the $k$*-step-ahead prediction*. As we predict further in time by increasing $k$, the errors accumulate and the quality of the prediction degrades, often dramatically.\n",
    "\n",
    "\n",
    "## Exercises\n",
    "\n",
    "1. Improve the model in the experiment of this section.\n",
    "    1. Incorporate more than the past 4 observations? How many do you really need?\n",
    "    1. How many past observations would you need if there was no noise? Hint: you can write $\\sin$ and $\\cos$ as a differential equation.\n",
    "    1. Can you incorporate older observations while keeping the total number of features constant? Does this improve accuracy? Why?\n",
    "    1. Change the neural network architecture and evaluate the performance.\n",
    "1. An investor wants to find a good security to buy. He looks at past returns to decide which one is likely to do well. What could possibly go wrong with this strategy?\n",
    "1. Does causality also apply to text? To which extent?\n",
    "1. Give an example for when a latent autoregressive model might be needed to capture the dynamic of the data.\n"
   ]
  }
 ],
 "metadata": {
  "kernelspec": {
   "display_name": "Java",
   "language": "java",
   "name": "java"
  },
  "language_info": {
   "codemirror_mode": "java",
   "file_extension": ".jshell",
   "mimetype": "text/x-java-source",
   "name": "Java",
   "pygments_lexer": "java",
   "version": "11.0.10+9"
  }
 },
 "nbformat": 4,
 "nbformat_minor": 4
}
