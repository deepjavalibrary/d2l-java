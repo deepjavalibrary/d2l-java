{
 "cells": [
  {
   "cell_type": "markdown",
   "metadata": {
    "origin_pos": 0
   },
   "source": [
    "# Concise Implementation of Recurrent Neural Networks\n",
    ":label:`sec_rnn-concise`\n",
    "\n",
    "While :numref:`sec_rnn_scratch` was instructive to see how RNNs are implemented,\n",
    "this is not convenient or fast.\n",
    "This section will show how to implement the same language model more efficiently\n",
    "using functions provided by high-level APIs\n",
    "of a deep learning framework.\n",
    "We begin as before by reading the time machine dataset.\n"
   ]
  },
  {
   "cell_type": "code",
   "execution_count": 1,
   "metadata": {},
   "outputs": [],
   "source": [
    "%mavenRepo snapshots https://oss.sonatype.org/content/repositories/snapshots/\n",
    "%maven org.slf4j:slf4j-api:1.7.26\n",
    "%maven org.slf4j:slf4j-simple:1.7.26\n",
    "    \n",
    "%maven ai.djl:api:0.11.0-SNAPSHOT\n",
    "%maven ai.djl:basicdataset:0.11.0-SNAPSHOT\n",
    "\n",
    "// See https://github.com/awslabs/djl/blob/master/mxnet/mxnet-engine/README.md\n",
    "// MXNet \n",
    "%maven ai.djl.mxnet:mxnet-engine:0.11.0-SNAPSHOT\n",
    "%maven ai.djl.mxnet:mxnet-native-auto:1.7.0-backport"
   ]
  },
  {
   "cell_type": "code",
   "execution_count": 2,
   "metadata": {},
   "outputs": [],
   "source": [
    "%load ../utils/plot-utils\n",
    "%load ../utils/Functions.java\n",
    "%load ../utils/PlotUtils.java\n",
    "\n",
    "%load ../utils/StopWatch.java\n",
    "%load ../utils/Accumulator.java\n",
    "%load ../utils/Animator.java\n",
    "%load ../utils/Training.java\n",
    "%load ../utils/TimeMachineUtils.java"
   ]
  },
  {
   "cell_type": "code",
   "execution_count": 4,
   "metadata": {},
   "outputs": [],
   "source": [
    "import ai.djl.Device;\n",
    "import ai.djl.ndarray.NDArray;\n",
    "import ai.djl.ndarray.NDList;\n",
    "import ai.djl.ndarray.NDManager;\n",
    "import ai.djl.ndarray.types.DataType;\n",
    "import ai.djl.ndarray.types.Shape;\n",
    "import ai.djl.nn.recurrent.RNN;\n",
    "import ai.djl.nn.AbstractBlock;\n",
    "import ai.djl.nn.core.Linear;\n",
    "import ai.djl.training.ParameterStore;\n",
    "import ai.djl.util.Pair;\n",
    "import ai.djl.util.PairList;\n",
    "\n",
    "import java.io.IOException;\n",
    "import java.util.ArrayList;"
   ]
  },
  {
   "cell_type": "code",
   "execution_count": 5,
   "metadata": {},
   "outputs": [],
   "source": [
    "NDManager manager = NDManager.newBaseManager(Functions.tryGpu(0));"
   ]
  },
  {
   "cell_type": "code",
   "execution_count": 6,
   "metadata": {},
   "outputs": [],
   "source": [
    "int batchSize = 32;\n",
    "int numSteps = 35;\n",
    "\n",
    "Pair<ArrayList<NDList>, Vocab> timeMachine =\n",
    "        SeqDataLoader.loadDataTimeMachine(batchSize, numSteps, false, 10000, manager);\n",
    "ArrayList<NDList> trainIter = timeMachine.getKey();\n",
    "Vocab vocab = timeMachine.getValue();"
   ]
  },
  {
   "cell_type": "markdown",
   "metadata": {
    "origin_pos": 3
   },
   "source": [
    "## Defining the Model\n",
    "\n",
    "High-level APIs provide implementations of recurrent neural networks.\n",
    "We construct the recurrent neural network layer `rnn_layer` with a single hidden layer and 256 hidden units.\n",
    "In fact, we have not even discussed yet what it means to have multiple layers---this will happen in :numref:`sec_deep_rnn`.\n",
    "For now, suffice it to say that multiple layers simply amount to the output of one layer of RNN being used as the input for the next layer of RNN.\n"
   ]
  },
  {
   "cell_type": "code",
   "execution_count": 7,
   "metadata": {},
   "outputs": [],
   "source": [
    "int numHiddens = 256;\n",
    "RNN rnnLayer = RNN.builder().setNumLayers(1)\n",
    "        .setStateSize(numHiddens).optReturnState(true).optBatchFirst(false).build();"
   ]
  },
  {
   "cell_type": "markdown",
   "metadata": {
    "origin_pos": 6,
    "tab": [
     "mxnet"
    ]
   },
   "source": [
    "Initializing the hidden state is straightforward.\n",
    "We invoke the member function `beginState` _(In DJL we don't have to run `beginState` to later specify the resulting state the first time we run `forward`, as this logic is ran by DJL the first time we do `forward` but we will create it here for demonstration purposes)_.\n",
    "This returns a list (`state`)\n",
    "that contains\n",
    "an initial hidden state\n",
    "for each example in the minibatch,\n",
    "whose shape is\n",
    "(number of hidden layers, batch size, number of hidden units).\n",
    "For some models \n",
    "to be introduced later \n",
    "(e.g., long short-term memory),\n",
    "such a list also\n",
    "contains other information."
   ]
  },
  {
   "cell_type": "code",
   "execution_count": 8,
   "metadata": {},
   "outputs": [
    {
     "name": "stdout",
     "output_type": "stream",
     "text": [
      "1\n",
      "(1, 32, 256)\n"
     ]
    }
   ],
   "source": [
    "public static NDList beginState(int batchSize, int numLayers, int numHiddens) {\n",
    "    return new NDList(manager.zeros(new Shape(numLayers, batchSize, numHiddens)));\n",
    "}\n",
    "\n",
    "NDList state = beginState(batchSize, 1, numHiddens);\n",
    "System.out.println(state.size());\n",
    "System.out.println(state.get(0).getShape());"
   ]
  },
  {
   "cell_type": "markdown",
   "metadata": {
    "origin_pos": 10
   },
   "source": [
    "With a hidden state and an input,\n",
    "we can compute the output with\n",
    "the updated hidden state.\n",
    "It should be emphasized that\n",
    "the \"output\" (`Y`) of `rnnLayer`\n",
    "does *not* involve computation of output layers:\n",
    "it refers to \n",
    "the hidden state at *each* time step,\n",
    "and they can be used as the input\n",
    "to the subsequent output layer."
   ]
  },
  {
   "cell_type": "markdown",
   "metadata": {
    "origin_pos": 11,
    "tab": [
     "mxnet"
    ]
   },
   "source": [
    "Besides,\n",
    "the updated hidden state (`stateNew`) returned by `rnnLayer`\n",
    "refers to the hidden state\n",
    "at the *last* time step of the minibatch.\n",
    "It can be used to initialize the \n",
    "hidden state for the next minibatch within an epoch\n",
    "in sequential partitioning.\n",
    "For multiple hidden layers,\n",
    "the hidden state of each layer will be stored\n",
    "in this variable (`stateNew`).\n",
    "For some models \n",
    "to be introduced later \n",
    "(e.g., long short-term memory),\n",
    "this variable also\n",
    "contains other information."
   ]
  },
  {
   "cell_type": "code",
   "execution_count": 9,
   "metadata": {},
   "outputs": [
    {
     "name": "stdout",
     "output_type": "stream",
     "text": [
      "(35, 32, 256)\n",
      "(1, 32, 256)\n"
     ]
    }
   ],
   "source": [
    "NDArray X = manager.randomUniform (0, 1,new Shape(numSteps, batchSize, vocab.length()));\n",
    "\n",
    "NDList forwardOutput = rnnLayer.forward(new ParameterStore(manager, false), new NDList(X, state.get(0)), false);\n",
    "NDArray Y = forwardOutput.get(0);\n",
    "NDArray stateNew = forwardOutput.get(1);\n",
    "\n",
    "System.out.println(Y.getShape());\n",
    "System.out.println(stateNew.getShape());"
   ]
  },
  {
   "cell_type": "markdown",
   "metadata": {
    "origin_pos": 14
   },
   "source": [
    "Similar to :numref:`sec_rnn_scratch`,\n",
    "we define an `RNNModel` class \n",
    "for a complete RNN model.\n",
    "Note that `rnnLayer` only contains the hidden recurrent layers, we need to create a separate output layer."
   ]
  },
  {
   "cell_type": "code",
   "execution_count": 10,
   "metadata": {},
   "outputs": [],
   "source": [
    "public class RNNModel extends AbstractBlock {\n",
    "\n",
    "    private static final byte VERSION = 2;\n",
    "    private RNN rnnLayer;\n",
    "    private Linear dense;\n",
    "    private int vocabSize;\n",
    "\n",
    "    public RNNModel(RNN rnnLayer, int vocabSize) {\n",
    "        super(VERSION);\n",
    "        this.rnnLayer = rnnLayer;\n",
    "        this.addChildBlock(\"rnn\", rnnLayer);\n",
    "        this.vocabSize = vocabSize;\n",
    "        this.dense = Linear.builder().setUnits(vocabSize).build();\n",
    "        this.addChildBlock(\"linear\", dense);\n",
    "    }\n",
    "\n",
    "    \n",
    "    @Override\n",
    "    protected NDList forwardInternal(ParameterStore parameterStore, NDList inputs, boolean training, PairList<String, Object> params) {\n",
    "        NDArray X = inputs.get(0).transpose().oneHot(this.vocabSize);\n",
    "        inputs.set(0, X);\n",
    "        NDList result = this.rnnLayer.forward(parameterStore, inputs, training);\n",
    "        NDArray Y = result.get(0);\n",
    "        NDArray state = result.get(1);\n",
    "\n",
    "        int shapeLength = Y.getShape().getShape().length;\n",
    "        NDList output = this.dense.forward(parameterStore, new NDList(Y\n",
    "                .reshape(new Shape(-1, Y.getShape().get(shapeLength-1)))), training);\n",
    "        return new NDList(output.get(0), state);\n",
    "    }\n",
    "    \n",
    "    @Override\n",
    "    public void initializeChildBlocks(NDManager manager, DataType dataType, Shape... inputShapes) {\n",
    "        /* rnnLayer is already initialized so we don't have to do anything here, just override it.*/\n",
    "        return;\n",
    "    }\n",
    "\n",
    "    /* We won't implement this since we won't be using it but it's required as part of an AbstractBlock  */\n",
    "    @Override\n",
    "    public Shape[] getOutputShapes(Shape[] inputShapes) {\n",
    "        return new Shape[0];\n",
    "    }\n",
    "}"
   ]
  },
  {
   "cell_type": "markdown",
   "metadata": {
    "origin_pos": 17
   },
   "source": [
    "## Training and Predicting\n",
    "\n",
    "Before training the model, let us make a prediction with the a model that has random weights.\n"
   ]
  },
  {
   "cell_type": "code",
   "execution_count": 11,
   "metadata": {},
   "outputs": [
    {
     "name": "stdout",
     "output_type": "stream",
     "text": [
      "time travellerddjjjjjdjj\n"
     ]
    }
   ],
   "source": [
    "Device device = Functions.tryGpu(0);\n",
    "RNNModel net = new RNNModel(rnnLayer, vocab.length());\n",
    "net.initialize(manager, DataType.FLOAT32, X.getShape());\n",
    "String prediction = TimeMachine.predictCh8(\"time traveller\", 10, net, vocab, device, manager);\n",
    "System.out.println(prediction);"
   ]
  },
  {
   "cell_type": "markdown",
   "metadata": {
    "origin_pos": 20
   },
   "source": [
    "As is quite obvious, this model does not work at all. Next, we call `trainCh8` with the same hyperparameters defined in :numref:`sec_rnn_scratch` and train our model with high-level APIs.\n"
   ]
  },
  {
   "cell_type": "code",
   "execution_count": 12,
   "metadata": {},
   "outputs": [
    {
     "name": "stderr",
     "output_type": "stream",
     "text": [
      "[IJava-executor-0] INFO ai.djl.training.listener.LoggingTrainingListener - Training on: cpu().\n",
      "[IJava-executor-0] INFO ai.djl.training.listener.LoggingTrainingListener - Load MXNet Engine Version 1.7.0 in 0.069 ms.\n"
     ]
    },
    {
     "data": {
      "text/html": [
       "<img id=\"0e286de56acc4682a793e55bdda70300_img\"></img>\n",
       "<div id=\"0e286de56acc4682a793e55bdda70300\"></div>\n",
       "<script>require(['https://cdn.plot.ly/plotly-1.57.0.min.js'], Plotly => {\n",
       "var target_0e286de56acc4682a793e55bdda70300 = document.getElementById('0e286de56acc4682a793e55bdda70300');\n",
       "var layout = {\n",
       "    height: 600,\n",
       "    width: 800,\n",
       "    showlegend: true,\n",
       "    xaxis: {\n",
       "    title: 'epoch',\n",
       "    },\n",
       "\n",
       "    yaxis: {\n",
       "    title: 'value',\n",
       "    },\n",
       "\n",
       "};\n",
       "\n",
       "var trace0 =\n",
       "{\n",
       "x: [\"10.0\",\"20.0\",\"30.0\",\"40.0\",\"50.0\",\"60.0\",\"70.0\",\"80.0\",\"90.0\",\"100.0\",\"110.0\",\"120.0\",\"130.0\",\"140.0\",\"150.0\",\"160.0\",\"170.0\",\"180.0\",\"190.0\",\"200.0\",\"210.0\",\"220.0\",\"230.0\",\"240.0\",\"250.0\",\"260.0\",\"270.0\",\"280.0\",\"290.0\",\"300.0\",\"310.0\",\"320.0\",\"330.0\",\"340.0\",\"350.0\",\"360.0\",\"370.0\",\"380.0\",\"390.0\",\"400.0\",\"410.0\",\"420.0\",\"430.0\",\"440.0\",\"450.0\",\"460.0\",\"470.0\",\"480.0\",\"490.0\",\"500.0\"],\n",
       "y: [\"17.150963\",\"15.537794\",\"14.16872\",\"13.373119\",\"12.640522\",\"12.03883\",\"11.456105\",\"11.028135\",\"10.552734\",\"10.270245\",\"9.92747\",\"9.746132\",\"9.389429\",\"9.133248\",\"8.936856\",\"8.701342\",\"8.559859\",\"8.407107\",\"8.2456665\",\"8.143786\",\"7.9912767\",\"7.8197293\",\"7.717286\",\"7.5954113\",\"7.443136\",\"7.4339175\",\"7.2851996\",\"7.121727\",\"7.1118436\",\"6.959592\",\"6.8425007\",\"6.785958\",\"6.797894\",\"6.6693645\",\"6.582549\",\"6.4133563\",\"6.3121667\",\"6.326052\",\"6.2598214\",\"6.2059193\",\"6.048262\",\"6.001453\",\"6.0483203\",\"5.883466\",\"5.8082557\",\"5.794123\",\"5.7899036\",\"5.6908445\",\"5.5807066\",\"5.561425\"],\n",
       "showlegend: true,\n",
       "mode: 'lines',\n",
       "xaxis: 'x',\n",
       "yaxis: 'y',\n",
       "type: 'scatter',\n",
       "name: 'ppl',\n",
       "};\n",
       "\n",
       "\n",
       "var data = [ trace0];\n",
       "Plotly.newPlot(target_0e286de56acc4682a793e55bdda70300, data, layout);\n",
       "})</script>\n"
      ],
      "text/plain": [
       "tech.tablesaw.plotly.components.Figure@4ed507e1"
      ]
     },
     "metadata": {},
     "output_type": "display_data"
    },
    {
     "name": "stdout",
     "output_type": "stream",
     "text": [
      "perplexity: 5.6, 69994.2 tokens/sec on cpu()\n",
      "time traveller ou there thoe  int and thene ta the this thaw ol \n",
      "travellertand mh the thme travel er oae sooeee te tou than \n"
     ]
    }
   ],
   "source": [
    "int numEpochs = 500;\n",
    "int lr = 1;\n",
    "TimeMachine.trainCh8((Object) net, trainIter, vocab, lr, numEpochs, device, false, manager);"
   ]
  },
  {
   "cell_type": "markdown",
   "metadata": {
    "origin_pos": 22
   },
   "source": [
    "Compared with the last section, this model achieves comparable perplexity,\n",
    "albeit within a shorter period of time, due to the code being more optimized by\n",
    "high-level APIs of the deep learning framework.\n",
    "\n",
    "\n",
    "## Summary\n",
    "\n",
    "* High-level APIs of the deep learning framework provides an implementation of the RNN layer.\n",
    "* The RNN layer of high-level APIs returns an output and an updated hidden state, where the output does not involve output layer computation.\n",
    "* Using high-level APIs leads to faster RNN training than using its implementation from scratch.\n",
    "\n",
    "## Exercises\n",
    "\n",
    "1. Can you make the RNN model overfit using the high-level APIs?\n",
    "1. What happens if you increase the number of hidden layers in the RNN model? Can you make the model work?\n",
    "1. Implement the autoregressive model of :numref:`sec_sequence` using an RNN.\n"
   ]
  }
 ],
 "metadata": {
  "kernelspec": {
   "display_name": "Java",
   "language": "java",
   "name": "java"
  },
  "language_info": {
   "codemirror_mode": "java",
   "file_extension": ".jshell",
   "mimetype": "text/x-java-source",
   "name": "Java",
   "pygments_lexer": "java",
   "version": "11.0.10+9"
  }
 },
 "nbformat": 4,
 "nbformat_minor": 4
}
