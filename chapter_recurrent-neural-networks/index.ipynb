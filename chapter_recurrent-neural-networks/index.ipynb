{
 "cells": [
  {
   "cell_type": "markdown",
   "metadata": {
    "origin_pos": 0
   },
   "source": [
    "# Recurrent Neural Networks\n",
    ":label:`chap_rnn`\n",
    "\n",
    "So far we encountered two types of data: tabular data and image data.\n",
    "For the latter we designed specialized layers to take advantage of the regularity in them.\n",
    "In other words, if we were to permute the pixels in an image, it would be much more difficult to reason about its content of something that would look much like the background of a test pattern in the times of analog TV.\n",
    "\n",
    "Most importantly, so far we tacitly assumed that our data are all drawn from some distribution,\n",
    "and all the examples are independently and identically distributed (i.i.d.).\n",
    "Unfortunately, this is not true for most data. For instance, the words in this paragraph are written in sequence, and it would be quite difficult to decipher its meaning if they were permuted randomly.\n",
    "Likewise, image frames in a video, the audio signal in a conversation, and the browsing behavior on a website, all follow sequential order.\n",
    "It is thus reasonable to assume that specialized models for such data will do better at describing them.\n",
    "\n",
    "Another issue arises from the fact that we might not only receive a sequence as an input but rather might be expected to continue the sequence.\n",
    "For instance, the task could be to continue the series $2, 4, 6, 8, 10, \\ldots$ This is quite common in time series analysis, to predict the stock market, the fever curve of a patient, or the acceleration needed for a race car. Again we want to have models that can handle such data.\n",
    "\n",
    "In short, while CNNs can efficiently process spatial information, *recurrent neural networks* (RNNs) are designed to better handle sequential information.\n",
    "RNNs introduce state variables to store past information, together with the current inputs, to determine the current outputs.\n",
    "\n",
    "Many of the examples for using recurrent networks are based on text data. Hence, we will emphasize language models in this chapter. After a more formal review of sequence data we introduce practical techniques for preprocessing text data.\n",
    "Next, we discuss basic concepts of a language model and use this discussion as the inspiration for the design of RNNs.\n",
    "In the end, we describe the gradient calculation method for RNNs to explore problems that may be encountered when training such networks.\n",
    "\n",
    ":begin_tab:toc\n",
    " - [sequence](sequence.ipynb)\n",
    " - [text-preprocessing](text-preprocessing.ipynb)\n",
    " - [language-models-and-dataset](language-models-and-dataset.ipynb)\n",
    " - [rnn](rnn.ipynb)\n",
    " - [rnn-scratch](rnn-scratch.ipynb)\n",
    " - [rnn-concise](rnn-concise.ipynb)\n",
    " - [bptt](bptt.ipynb)\n",
    ":end_tab:\n"
   ]
  }
 ],
 "metadata": {
  "kernelspec": {
   "display_name": "Python 3",
   "language": "python",
   "name": "python3"
  },
  "language_info": {
   "codemirror_mode": {
    "name": "ipython",
    "version": 3
   },
   "file_extension": ".py",
   "mimetype": "text/x-python",
   "name": "python",
   "nbconvert_exporter": "python",
   "pygments_lexer": "ipython3",
   "version": "3.8.2"
  }
 },
 "nbformat": 4,
 "nbformat_minor": 4
}
