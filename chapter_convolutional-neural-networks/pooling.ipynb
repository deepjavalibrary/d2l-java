{
 "cells": [
  {
   "cell_type": "markdown",
   "metadata": {},
   "source": [
    "# Pooling\n",
    "\n",
    ":label:`sec_pooling`\n",
    "\n",
    "\n",
    "\n",
    "Often, as we process images, we want to gradually\n",
    "reduce the spatial resolution of our hidden representations,\n",
    "aggregating information so that\n",
    "the higher up we go in the network,\n",
    "the larger the receptive field (in the input)\n",
    "to which each hidden node is sensitive.\n",
    "\n",
    "Often our ultimate task asks some global question about the image,\n",
    "e.g., *does it contain a cat?*\n",
    "So typically the nodes of our final layer should be sensitive\n",
    "to the entire input.\n",
    "By gradually aggregating information, yielding coarser and coarser maps,\n",
    "we accomplish this goal of ultimately learning a global representation,\n",
    "while keeping all of the advantages of convolutional layers at the intermediate layers of processing.\n",
    "\n",
    "\n",
    "Moreover, when detecting lower-level features, such as edges\n",
    "(as discussed in :numref:`sec_conv_layer`),\n",
    "we often want our representations to be somewhat invariant to translation.\n",
    "For instance, if we take the image `X`\n",
    "with a sharp delineation between black and white\n",
    "and shift the whole image by one pixel to the right,\n",
    "i.e., `Z[i, j] = X[i, j+1]`,\n",
    "then the output for the new image `Z` might be vastly different.\n",
    "The edge will have shifted by one pixel and with it all the activations.\n",
    "In reality, objects hardly ever occur exactly at the same place.\n",
    "In fact, even with a tripod and a stationary object,\n",
    "vibration of the camera due to the movement of the shutter\n",
    "might shift everything by a pixel or so\n",
    "(high-end cameras are loaded with special features to address this problem).\n",
    "\n",
    "This section introduces pooling layers,\n",
    "which serve the dual purposes of\n",
    "mitigating the sensitivity of convolutional layers to location\n",
    "and of spatially downsampling representations.\n",
    "\n",
    "## Maximum Pooling and Average Pooling\n",
    "\n",
    "Like convolutional layers, pooling operators\n",
    "consist of a fixed-shape window that is slid over\n",
    "all regions in the input according to its stride,\n",
    "computing a single output for each location traversed\n",
    "by the fixed-shape window (sometimes known as the *pooling window*).\n",
    "However, unlike the cross-correlation computation\n",
    "of the inputs and kernels in the convolutional layer,\n",
    "the pooling layer contains no parameters (there is no *filter*).\n",
    "Instead, pooling operators are deterministic,\n",
    "typically calculating either the maximum or the average value\n",
    "of the elements in the pooling window.\n",
    "These operations are called *maximum pooling* (*max pooling* for short)\n",
    "and *average pooling*, respectively.\n",
    "\n",
    "In both cases, as with the cross-correlation operator,\n",
    "we can think of the pooling window\n",
    "as starting from the top left of the input array\n",
    "and sliding across the input array from left to right and top to bottom.\n",
    "At each location that the pooling window hits,\n",
    "it computes the maximum or average\n",
    "value of the input subarray in the window\n",
    "(depending on whether *max* or *average* pooling is employed).\n",
    "\n",
    "\n",
    "![Maximum pooling with a pooling window shape of $2\\times 2$. The shaded portions represent the first output element and the input element used for its computation: $\\max(0, 1, 3, 4)=4$](https://raw.githubusercontent.com/d2l-ai/d2l-en/master/img/pooling.svg)\n",
    "\n",
    ":label:`fig_pooling`\n",
    "\n",
    "\n",
    "The output array in :numref:`fig_pooling` above has a height of 2 and a width of 2.\n",
    "The four elements are derived from the maximum value of $\\text{max}$:\n",
    "\n",
    "$$\n",
    "\\max(0, 1, 3, 4)=4,\\\\\n",
    "\\max(1, 2, 4, 5)=5,\\\\\n",
    "\\max(3, 4, 6, 7)=7,\\\\\n",
    "\\max(4, 5, 7, 8)=8.\\\\\n",
    "$$\n",
    "\n",
    "A pooling layer with a pooling window shape of $p \\times q$\n",
    "is called a $p \\times q$ pooling layer.\n",
    "The pooling operation is called $p \\times q$ pooling.\n",
    "\n",
    "Let us return to the object edge detection example\n",
    "mentioned at the beginning of this section.\n",
    "Now we will use the output of the convolutional layer\n",
    "as the input for $2\\times 2$ maximum pooling.\n",
    "Set the convolutional layer input as `X` and the pooling layer output as `Y`. Whether or not the values of `X[i, j]` and `X[i, j+1]` are different,\n",
    "or `X[i, j+1]` and `X[i, j+2]` are different,\n",
    "the pooling layer outputs all include `Y[i, j]=1`.\n",
    "That is to say, using the $2\\times 2$ maximum pooling layer,\n",
    "we can still detect if the pattern recognized by the convolutional layer\n",
    "moves no more than one element in height and width.\n",
    "\n",
    "In the code below, we implement the forward computation\n",
    "of the pooling layer in the `pool2d` function.\n",
    "This function is similar to the `corr2d` function\n",
    "in :numref:`sec_conv_layer`.\n",
    "However, here we have no kernel, computing the output\n",
    "as either the max or the average of each region in the input.."
   ]
  },
  {
   "cell_type": "code",
   "execution_count": null,
   "metadata": {},
   "outputs": [],
   "source": [
    "%mavenRepo snapshots https://oss.sonatype.org/content/repositories/snapshots/\n",
    "\n",
    "%maven ai.djl:api:0.7.0-SNAPSHOT\n",
    "%maven org.slf4j:slf4j-api:1.7.26\n",
    "%maven org.slf4j:slf4j-simple:1.7.26\n",
    "%maven net.java.dev.jna:jna:5.3.0\n",
    "    \n",
    "%maven ai.djl.mxnet:mxnet-engine:0.7.0-SNAPSHOT\n",
    "%maven ai.djl.mxnet:mxnet-native-auto:1.7.0-b"
   ]
  },
  {
   "cell_type": "code",
   "execution_count": null,
   "metadata": {},
   "outputs": [],
   "source": [
    "import ai.djl.*;\n",
    "import ai.djl.ndarray.NDArray;\n",
    "import ai.djl.ndarray.NDList;\n",
    "import ai.djl.ndarray.NDManager;\n",
    "import ai.djl.ndarray.index.NDIndex;\n",
    "import ai.djl.ndarray.types.DataType;\n",
    "import ai.djl.ndarray.types.Shape;\n",
    "import ai.djl.nn.Block;\n",
    "import ai.djl.nn.pooling.Pool;\n",
    "import ai.djl.training.ParameterStore;"
   ]
  },
  {
   "cell_type": "code",
   "execution_count": null,
   "metadata": {
    "attributes": {
     "classes": [],
     "id": "",
     "n": "3"
    }
   },
   "outputs": [],
   "source": [
    "NDManager manager = NDManager.newBaseManager();\n",
    "\n",
    "public NDArray pool2d(NDArray X, Shape poolShape, String mode){\n",
    "    \n",
    "    long poolHeight = poolShape.get(0);\n",
    "    long poolWidth = poolShape.get(1);\n",
    "    \n",
    "    NDArray Y = manager.zeros(new Shape(X.getShape().get(0) - poolHeight + 1, \n",
    "                                        X.getShape().get(1) - poolWidth + 1));\n",
    "    for(int i=0; i < Y.getShape().get(0); i++){\n",
    "        for(int j=0; j < Y.getShape().get(1); j++){\n",
    "            \n",
    "            if(\"max\".equals(mode)){\n",
    "                Y.set(new NDIndex(i+\",\"+j), \n",
    "                            X.get(new NDIndex(i + \":\" + (i + poolHeight) + \", \" + j + \":\" + (j + poolWidth))).max());\n",
    "            }\n",
    "            else if(\"avg\".equals(mode)){\n",
    "                Y.set(new NDIndex(i+\",\"+j),\n",
    "                            X.get(new NDIndex(i + \":\" + (i + poolHeight) + \", \" + j + \":\" + (j + poolWidth))).mean());\n",
    "            }\n",
    "            \n",
    "        }\n",
    "    }\n",
    "    \n",
    "    return Y;\n",
    "}"
   ]
  },
  {
   "cell_type": "markdown",
   "metadata": {},
   "source": [
    "We can construct the input array `X` in the above diagram to validate the output of the two-dimensional maximum pooling layer."
   ]
  },
  {
   "cell_type": "code",
   "execution_count": null,
   "metadata": {
    "attributes": {
     "classes": [],
     "id": "",
     "n": "4"
    }
   },
   "outputs": [],
   "source": [
    "NDArray X = manager.arange(9f).reshape(3,3);\n",
    "pool2d(X, new Shape(2,2), \"max\");"
   ]
  },
  {
   "cell_type": "markdown",
   "metadata": {},
   "source": [
    "At the same time, we experiment with the average pooling layer."
   ]
  },
  {
   "cell_type": "code",
   "execution_count": null,
   "metadata": {
    "attributes": {
     "classes": [],
     "id": "",
     "n": "14"
    }
   },
   "outputs": [],
   "source": [
    "pool2d(X, new Shape(2,2), \"avg\");"
   ]
  },
  {
   "cell_type": "markdown",
   "metadata": {},
   "source": [
    "## Padding and Stride\n",
    "\n",
    "As with convolutional layers, pooling layers\n",
    "can also change the output shape.\n",
    "And as before, we can alter the operation to achieve a desired output shape\n",
    "by padding the input and adjusting the stride.\n",
    "We can demonstrate the use of padding and strides\n",
    "in pooling layers via the two-dimensional maximum pooling layer `maxPool2dBlock`\n",
    "shipped in DJL's `Pool` module.\n",
    "We first construct an input data of shape `(1, 1, 4, 4)`,\n",
    "where the first two dimensions are batch and channel."
   ]
  },
  {
   "cell_type": "code",
   "execution_count": null,
   "metadata": {
    "attributes": {
     "classes": [],
     "id": "",
     "n": "15"
    }
   },
   "outputs": [],
   "source": [
    "X = manager.arange(16f).reshape(1, 1, 4, 4);\n",
    "X"
   ]
  },
  {
   "cell_type": "markdown",
   "metadata": {},
   "source": [
    "Below, we use a pooling window of shape `(3, 3)`,\n",
    "and a stride shape of `(3, 3)`"
   ]
  },
  {
   "cell_type": "code",
   "execution_count": null,
   "metadata": {
    "attributes": {
     "classes": [],
     "id": "",
     "n": "16"
    }
   },
   "outputs": [],
   "source": [
    "// defining block specifying kernel and stride\n",
    "Block block = Pool.maxPool2dBlock(new Shape(3, 3), new Shape(3, 3));\n",
    "block.initialize(manager, DataType.FLOAT32, new Shape(1,1,4,4));\n",
    "\n",
    "ParameterStore parameterStore = new ParameterStore(manager, false);\n",
    "// Because there are no model parameters in the pooling layer, we do not need\n",
    "// to call the parameter initialization function\n",
    "block.forward(parameterStore, new NDList(X), true).singletonOrThrow();"
   ]
  },
  {
   "cell_type": "markdown",
   "metadata": {},
   "source": [
    "The stride and padding can be manually specified."
   ]
  },
  {
   "cell_type": "code",
   "execution_count": null,
   "metadata": {
    "attributes": {
     "classes": [],
     "id": "",
     "n": "7"
    }
   },
   "outputs": [],
   "source": [
    "// redefining block shapes for kernel shape, stride shape and pad shape\n",
    "block = Pool.maxPool2dBlock(new Shape(3,3), new Shape(2,2), new Shape(1,1));\n",
    "// block forward method\n",
    "block.forward(parameterStore, new NDList(X), true).singletonOrThrow();"
   ]
  },
  {
   "cell_type": "markdown",
   "metadata": {},
   "source": [
    "Of course, we can specify an arbitrary rectangular pooling window\n",
    "and specify the padding and stride for height and width, respectively."
   ]
  },
  {
   "cell_type": "code",
   "execution_count": null,
   "metadata": {
    "attributes": {
     "classes": [],
     "id": "",
     "n": "8"
    }
   },
   "outputs": [],
   "source": [
    "// redefining block shapes for kernel shape, stride shape and pad shape\n",
    "block = Pool.maxPool2dBlock(new Shape(2,3), new Shape(2,3), new Shape(1,2));\n",
    "block.forward(parameterStore, new NDList(X), true).singletonOrThrow();"
   ]
  },
  {
   "cell_type": "markdown",
   "metadata": {},
   "source": [
    "## Multiple Channels\n",
    "\n",
    "When processing multi-channel input data,\n",
    "the pooling layer pools each input channel separately,\n",
    "rather than adding the inputs of each channel by channel\n",
    "as in a convolutional layer.\n",
    "This means that the number of output channels for the pooling layer\n",
    "is the same as the number of input channels.\n",
    "Below, we will concatenate arrays `X` and `X+1`\n",
    "on the channel dimension to construct an input with 2 channels."
   ]
  },
  {
   "cell_type": "code",
   "execution_count": null,
   "metadata": {
    "attributes": {
     "classes": [],
     "id": "",
     "n": "9"
    }
   },
   "outputs": [],
   "source": [
    "X = X.concat(X.add(1), 1);\n",
    "X"
   ]
  },
  {
   "cell_type": "markdown",
   "metadata": {},
   "source": [
    "As we can see, the number of output channels is still 2 after pooling."
   ]
  },
  {
   "cell_type": "code",
   "execution_count": null,
   "metadata": {
    "attributes": {
     "classes": [],
     "id": "",
     "n": "10"
    }
   },
   "outputs": [],
   "source": [
    "block = Pool.maxPool2dBlock(new Shape(3,3), new Shape(2,2), new Shape(1,1));\n",
    "block.forward(parameterStore, new NDList(X), true).singletonOrThrow();"
   ]
  },
  {
   "cell_type": "markdown",
   "metadata": {},
   "source": [
    "## Summary\n",
    "\n",
    "* Taking the input elements in the pooling window, the maximum pooling operation assigns the maximum value as the output and the average pooling operation assigns the average value as the output.\n",
    "* One of the major functions of a pooling layer is to alleviate the excessive sensitivity of the convolutional layer to location.\n",
    "* We can specify the padding and stride for the pooling layer.\n",
    "* Maximum pooling, combined with a stride larger than 1 can be used to reduce the resolution.\n",
    "* The pooling layer's number of output channels is the same as the number of input channels.\n",
    "\n",
    "\n",
    "## Exercises\n",
    "\n",
    "1. Can you implement average pooling as a special case of a convolution layer? If so, do it.\n",
    "1. Can you implement max pooling as a special case of a convolution layer? If so, do it.\n",
    "1. What is the computational cost of the pooling layer? Assume that the input to the pooling layer is of size $c\\times h\\times w$, the pooling window has a shape of $p_h\\times p_w$ with a padding of $(p_h, p_w)$ and a stride of $(s_h, s_w)$.\n",
    "1. Why do you expect maximum pooling and average pooling to work differently?\n",
    "1. Do we need a separate minimum pooling layer? Can you replace it with another operation?\n",
    "1. Is there another operation between average and maximum pooling that you could consider (hint: recall the softmax)? Why might it not be so popular?\n"
   ]
  }
 ],
 "metadata": {
  "kernelspec": {
   "display_name": "Java",
   "language": "java",
   "name": "java"
  },
  "language_info": {
   "codemirror_mode": "java",
   "file_extension": ".jshell",
   "mimetype": "text/x-java-source",
   "name": "Java",
   "pygments_lexer": "java",
   "version": "11.0.5+10-LTS"
  }
 },
 "nbformat": 4,
 "nbformat_minor": 2
}
