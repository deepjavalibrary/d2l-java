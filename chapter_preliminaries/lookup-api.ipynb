{
 "cells": [
  {
   "cell_type": "markdown",
   "metadata": {
    "origin_pos": 0
   },
   "source": [
    "# 查阅文档\n"
   ]
  },
  {
   "cell_type": "markdown",
   "metadata": {},
   "source": [
    "由于本书篇幅的限制，我们不可能介绍每一个 DJL 函数和类（你可能也不希望我们这样做）。API文档、其他教程和示例提供了本书之外的大量文档。在本节中，我们为你提供了一些查看 DJL API 的指导。\n"
   ]
  },
  {
   "cell_type": "markdown",
   "metadata": {
    "origin_pos": 4
   },
   "source": [
    "## 查找模块中的所有函数和类\n",
    "\n",
    "[DJL javadoc文档](https://djl.ai/website/javadoc.html) 提供了常用模块的javadoc 链接，其中[API 模块](https://javadoc.io/doc/ai.djl/api/latest/index.html)包含了DJL核心的类和函数。\n",
    "\n",
    "我们可以在左侧的`All Classes`页面中查找感兴趣的类，点击类名，该类所有的函数及其说明会在主页面显示。\n",
    "\n",
    "https://javadoc.io/doc/ai.djl/api/latest/ai/djl/ndarray/NDManager.html\n",
    "\n",
    "\n",
    "## 查找特定函数和类的用法\n",
    "\n",
    "有关如何使用给定函数或类的更具体说明, 我们可以单击所需函数或通过搜索找到特定的函数。\n",
    "举个例子，让我们探索一下`NDManager`的`ones`函数的使用说明，该函数以`Shape`为参数。\n",
    "\n",
    "https://javadoc.io/static/ai.djl/api/0.11.0/ai/djl/ndarray/NDManager.html#ones-ai.djl.ndarray.types.Shape-\n",
    "\n",
    "从文档中，我们可以看到 `ones` 函数创建一个具有指定形状的新张量，并将所有元素值设置为 1。让我们来运行一个快速测试来确认这一解释："
   ]
  },
  {
   "cell_type": "code",
   "execution_count": null,
   "metadata": {},
   "outputs": [],
   "source": [
    "%load ../utils/djl-imports"
   ]
  },
  {
   "cell_type": "code",
   "execution_count": null,
   "metadata": {},
   "outputs": [],
   "source": [
    "NDManager manager = NDManager.newBaseManager();\n",
    "manager.ones(new Shape(4))"
   ]
  },
  {
   "cell_type": "markdown",
   "metadata": {
    "origin_pos": 16
   },
   "source": [
    "## 小结\n",
    "\n",
    "* DJL 官方文档提供了本书之外的大量描述和示例。\n",
    "* 我们可以访问 DJL 的 [javadoc](https://djl.ai/website/javadoc.html) 查看API的用法。\n",
    "\n",
    "## 练习\n",
    "\n",
    "1. 在深度学习框架中查找任何函数或类的文档。你能在这个框架的官方网站上找到文档吗?\n"
   ]
  }
 ],
 "metadata": {
  "kernelspec": {
   "display_name": "Java",
   "language": "java",
   "name": "java"
  },
  "language_info": {
   "codemirror_mode": "java",
   "file_extension": ".jshell",
   "mimetype": "text/x-java-source",
   "name": "Java",
   "pygments_lexer": "java",
   "version": "14.0.2+12"
  }
 },
 "nbformat": 4,
 "nbformat_minor": 4
}
