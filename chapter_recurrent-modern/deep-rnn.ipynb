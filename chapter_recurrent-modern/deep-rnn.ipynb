{
 "cells": [
  {
   "cell_type": "markdown",
   "metadata": {
    "origin_pos": 0
   },
   "source": [
    "# Deep Recurrent Neural Networks\n",
    "\n",
    ":label:`sec_deep_rnn`\n",
    "\n",
    "Up to now, we only discussed RNNs with a single unidirectional hidden layer.\n",
    "In it the specific functional form of how latent variables and observations interact is rather arbitrary.\n",
    "This is not a big problem as long as we have enough flexibility to model different types of interactions.\n",
    "With a single layer, however, this can be quite challenging.\n",
    "In the case of the linear models,\n",
    "we fixed this problem by adding more layers.\n",
    "Within RNNs this is a bit trickier, since we first need to decide how and where to add extra nonlinearity.\n",
    "\n",
    "In fact,\n",
    "we could stack multiple layers of RNNs on top of each other. This results in a flexible mechanism,\n",
    "due to the combination of several simple layers. In particular, data might be relevant at different levels of the stack. For instance, we might want to keep high-level data about financial market conditions (bear or bull market) available, whereas at a lower level we only record shorter-term temporal dynamics.\n",
    "\n",
    "\n",
    "Beyond all the above abstract discussion \n",
    "it is probably easiest to understand the family of models we are interested in by reviewing :numref:`fig_deep_rnn`. It describes a deep RNN with $L$ hidden layers.\n",
    "Each hidden state is continuously passed to both the next time step of the current layer and the current time step of the next layer.\n",
    "\n",
    "![Architecture of a deep RNN.](https://raw.githubusercontent.com/d2l-ai/d2l-en/master/img/deep-rnn.svg)\n",
    ":label:`fig_deep_rnn`\n",
    "\n",
    "## Functional Dependencies\n",
    "\n",
    "We can formalize the \n",
    "functional dependencies \n",
    "within the  deep architecture\n",
    "of $L$ hidden layers\n",
    "depicted in :numref:`fig_deep_rnn`.\n",
    "Our following discussion focuses primarily on\n",
    "the vanilla RNN model,\n",
    "but it applies to other sequence models, too.\n",
    "\n",
    "Suppose that we have a minibatch input\n",
    "$\\mathbf{X}_t \\in \\mathbb{R}^{n \\times d}$ (number of examples: $n$, number of inputs in each example: $d$) at time step $t$.\n",
    "At the same time step,\n",
    "let\n",
    "the hidden state of the $l^\\mathrm{th}$ hidden layer  ($l=1,\\ldots,L$) be $\\mathbf{H}_t^{(l)}  \\in \\mathbb{R}^{n \\times h}$ (number of hidden units: $h$)\n",
    "and \n",
    "the output layer variable be $\\mathbf{O}_t \\in \\mathbb{R}^{n \\times q}$ (number of outputs: $q$).\n",
    "Setting $\\mathbf{H}_t^{(0)} = \\mathbf{X}_t$,\n",
    "the hidden state of \n",
    "the $l^\\mathrm{th}$ hidden layer\n",
    "that uses the activation function $\\phi_l$\n",
    "is expressed as follows:\n",
    "\n",
    "$$\\mathbf{H}_t^{(l)} = \\phi_l(\\mathbf{H}_t^{(l-1)} \\mathbf{W}_{xh}^{(l)} + \\mathbf{H}_{t-1}^{(l)} \\mathbf{W}_{hh}^{(l)}  + \\mathbf{b}_h^{(l)}),$$\n",
    ":eqlabel:`eq_deep_rnn_H`\n",
    "\n",
    "where the weights $\\mathbf{W}_{xh}^{(l)} \\in \\mathbb{R}^{h \\times h}$ and $\\mathbf{W}_{hh}^{(l)} \\in \\mathbb{R}^{h \\times h}$, together with \n",
    "the bias $\\mathbf{b}_h^{(l)} \\in \\mathbb{R}^{1 \\times h}$, are the model parameters of\n",
    "the $l^\\mathrm{th}$ hidden layer.\n",
    "\n",
    "In the end,\n",
    "the calculation of the output layer is only based on the hidden state of the final $L^\\mathrm{th}$ hidden layer:\n",
    "\n",
    "$$\\mathbf{O}_t = \\mathbf{H}_t^{(L)} \\mathbf{W}_{hq} + \\mathbf{b}_q,$$\n",
    "\n",
    "where the weight $\\mathbf{W}_{hq} \\in \\mathbb{R}^{h \\times q}$ and the bias $\\mathbf{b}_q \\in \\mathbb{R}^{1 \\times q}$ are the model parameters of the output layer.\n",
    "\n",
    "Just as with MLPs, the number of hidden layers $L$ and the number of hidden units $h$ are hyperparameters.\n",
    "In other words, they can be tuned or specified by us.\n",
    "In addition, we can easily\n",
    "get a deep gated RNN\n",
    "by replacing \n",
    "the hidden state computation in \n",
    ":eqref:`eq_deep_rnn_H`\n",
    "with that from a GRU or an LSTM.\n",
    "\n",
    "\n",
    "## Concise Implementation\n",
    "\n",
    "Fortunately many of the logistical details required to implement multiple layers of an RNN are readily available in high-level APIs.\n",
    "To keep things simple we only illustrate the implementation using such built-in functionalities.\n",
    "Let us take an LSTM model as an example.\n",
    "The code is very similar to the one we used previously in :numref:`sec_lstm`.\n",
    "In fact, the only difference is that we specify the number of layers explicitly rather than picking the default of a single layer. \n",
    "As usual, we begin by loading the dataset.\n"
   ]
  },
  {
   "cell_type": "code",
   "execution_count": null,
   "metadata": {},
   "outputs": [],
   "source": [
    "%mavenRepo snapshots https://oss.sonatype.org/content/repositories/snapshots/\n",
    "%maven org.slf4j:slf4j-api:1.7.26\n",
    "%maven org.slf4j:slf4j-simple:1.7.26\n",
    "    \n",
    "%maven ai.djl:api:0.11.0-SNAPSHOT\n",
    "%maven ai.djl:basicdataset:0.11.0-SNAPSHOT\n",
    "\n",
    "// See https://github.com/deepjavalibrary/djl/blob/master/mxnet/mxnet-engine/README.md\n",
    "// MXNet \n",
    "%maven ai.djl.mxnet:mxnet-engine:0.11.0-SNAPSHOT\n",
    "%maven ai.djl.mxnet:mxnet-native-auto:1.7.0-backport"
   ]
  },
  {
   "cell_type": "code",
   "execution_count": null,
   "metadata": {},
   "outputs": [],
   "source": [
    "%load ../utils/plot-utils\n",
    "%load ../utils/Functions.java\n",
    "%load ../utils/PlotUtils.java\n",
    "\n",
    "%load ../utils/StopWatch.java\n",
    "%load ../utils/Accumulator.java\n",
    "%load ../utils/Animator.java\n",
    "%load ../utils/Training.java\n",
    "%load ../utils/TimeMachineUtils.java"
   ]
  },
  {
   "cell_type": "code",
   "execution_count": null,
   "metadata": {},
   "outputs": [],
   "source": [
    "NDManager manager = NDManager.newBaseManager(Functions.tryGpu(0));"
   ]
  },
  {
   "cell_type": "code",
   "execution_count": null,
   "metadata": {},
   "outputs": [],
   "source": [
    "int batchSize = 32;\n",
    "int numSteps = 35;\n",
    "\n",
    "TimeMachineDataset dataset =\n",
    "        new TimeMachineDataset.Builder()\n",
    "                .setManager(manager)\n",
    "                .setMaxTokens(10000)\n",
    "                .setSampling(batchSize, false)\n",
    "                .setSteps(numSteps)\n",
    "                .build();\n",
    "dataset.prepare();\n",
    "Vocab vocab = dataset.getVocab();"
   ]
  },
  {
   "cell_type": "markdown",
   "metadata": {
    "origin_pos": 3
   },
   "source": [
    "The architectural decisions such as choosing hyperparameters are very similar to those of :numref:`sec_lstm`. \n",
    "We pick the same number of inputs and outputs as we have distinct tokens, i.e., `vocabSize`.\n",
    "The number of hidden units is still 256.\n",
    "The only difference is that we now select a nontrivial number of hidden layers by specifying the value of `numLayers`.\n"
   ]
  },
  {
   "cell_type": "code",
   "execution_count": null,
   "metadata": {},
   "outputs": [],
   "source": [
    "int vocabSize = vocab.length();\n",
    "int numHiddens = 256;\n",
    "int numLayers = 2;\n",
    "Device device = Functions.tryGpu(0);\n",
    "LSTM lstmLayer =\n",
    "        LSTM.builder()\n",
    "                .setNumLayers(numLayers)\n",
    "                .setStateSize(numHiddens)\n",
    "                .optReturnState(true)\n",
    "                .optBatchFirst(false)\n",
    "                .build();\n",
    "\n",
    "RNNModel model = new RNNModel(lstmLayer, vocabSize);"
   ]
  },
  {
   "cell_type": "markdown",
   "metadata": {
    "origin_pos": 6
   },
   "source": [
    "## Training and Prediction\n",
    "\n",
    "Since now we instantiate two layers with the LSTM model, this rather more complex architecture slows down training considerably.\n"
   ]
  },
  {
   "cell_type": "code",
   "execution_count": null,
   "metadata": {},
   "outputs": [],
   "source": [
    "int numEpochs = 500;\n",
    "int lr = 2;\n",
    "TimeMachine.trainCh8(model, dataset, vocab, lr, numEpochs, device, false, manager);"
   ]
  },
  {
   "cell_type": "markdown",
   "metadata": {
    "origin_pos": 8
   },
   "source": [
    "## Summary\n",
    "\n",
    "* In deep RNNs, the hidden state information is passed to the next time step of the current layer and the current time step of the next layer.\n",
    "* There exist many different flavors of deep RNNs, such as LSTMs, GRUs, or vanilla RNNs. Conveniently these models are all available as parts of the high-level APIs of deep learning frameworks.\n",
    "* Initialization of models requires care. Overall, deep RNNs require considerable amount of work (such as learning rate and clipping) to ensure proper convergence.\n",
    "\n",
    "## Exercises\n",
    "\n",
    "1. Try to implement a two-layer RNN from scratch using the single layer implementation we discussed in :numref:`sec_rnn_scratch`.\n",
    "2. Replace the LSTM by a GRU and compare the accuracy and training speed.\n",
    "3. Increase the training data to include multiple books. How low can you go on the perplexity scale?\n",
    "4. Would you want to combine sources of different authors when modeling text? Why is this a good idea? What could go wrong?\n"
   ]
  }
 ],
 "metadata": {
  "kernelspec": {
   "display_name": "Java",
   "language": "java",
   "name": "java"
  },
  "language_info": {
   "codemirror_mode": "java",
   "file_extension": ".jshell",
   "mimetype": "text/x-java-source",
   "name": "Java",
   "pygments_lexer": "java",
   "version": "11.0.10+9"
  }
 },
 "nbformat": 4,
 "nbformat_minor": 4
}
