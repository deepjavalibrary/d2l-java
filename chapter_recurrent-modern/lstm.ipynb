{
 "cells": [
  {
   "cell_type": "markdown",
   "metadata": {
    "origin_pos": 0
   },
   "source": [
    "# Long Short-Term Memory (LSTM)\n",
    ":label:`sec_lstm`\n",
    "\n",
    "The challenge to address long-term information preservation and short-term input\n",
    "skipping in latent variable models has existed for a long time. One of the\n",
    "earliest approaches to address this was the\n",
    "long short-term memory (LSTM) :cite:`Hochreiter.Schmidhuber.1997`. It shares many of the properties of the\n",
    "GRU.\n",
    "Interestingly, LSTMs have a slightly more complex\n",
    "design than GRUs but predates GRUs by almost two decades.\n",
    "\n",
    "\n",
    "\n",
    "## Gated Memory Cell\n",
    "\n",
    "Arguably LSTM's design is inspired\n",
    "by logic gates of a computer.\n",
    "LSTM introduces a *memory cell* (or *cell* for short)\n",
    "that has the same shape as the hidden state\n",
    "(some literatures consider the memory cell\n",
    "as a special type of the hidden state),\n",
    "engineered to record additional information.\n",
    "To control the memory cell\n",
    "we need a number of gates.\n",
    "One gate is needed to read out the entries from the\n",
    "cell.\n",
    "We will refer to this as the\n",
    "*output gate*.\n",
    "A second gate is needed to decide when to read data into the\n",
    "cell.\n",
    "We refer to this as the *input gate*.\n",
    "Last, we need a mechanism to reset\n",
    "the content of the cell, governed by a *forget gate*.\n",
    "The motivation for such a\n",
    "design is the same as that of GRUs,\n",
    "namely to be able to decide when to remember and\n",
    "when to ignore inputs in the hidden state via a dedicated mechanism. Let us see\n",
    "how this works in practice.\n",
    "\n",
    "\n",
    "### Input Gate, Forget Gate, and Output Gate\n",
    "\n",
    "Just like in GRUs,\n",
    "the data feeding into the LSTM gates are\n",
    "the input at the current time step and\n",
    "the hidden state of the previous time step,\n",
    "as illustrated in :numref:`lstm_0`.\n",
    "They are processed by\n",
    "three fully-connected layers with a sigmoid activation function to compute the values of\n",
    "the input, forget. and output gates.\n",
    "As a result, values of the three gates\n",
    "are in the range of $(0, 1)$.\n",
    "\n",
    "![Computing the input gate, the forget gate, and the output gate in an LSTM model.](https://raw.githubusercontent.com/d2l-ai/d2l-en/master/img/lstm-0.svg)\n",
    ":label:`lstm_0`\n",
    "\n",
    "Mathematically,\n",
    "suppose that there are $h$ hidden units, the batch size is $n$, and the number of inputs is $d$.\n",
    "Thus, the input is $\\mathbf{X}_t \\in \\mathbb{R}^{n \\times d}$ and the hidden state of the previous time step is $\\mathbf{H}_{t-1} \\in \\mathbb{R}^{n \\times h}$. Correspondingly, the gates at time step $t$\n",
    "are defined as follows: the input gate is $\\mathbf{I}_t \\in \\mathbb{R}^{n \\times h}$, the forget gate is $\\mathbf{F}_t \\in \\mathbb{R}^{n \\times h}$, and the output gate is $\\mathbf{O}_t \\in \\mathbb{R}^{n \\times h}$. They are calculated as follows:\n",
    "\n",
    "$$\n",
    "\\begin{aligned}\n",
    "\\mathbf{I}_t &= \\sigma(\\mathbf{X}_t \\mathbf{W}_{xi} + \\mathbf{H}_{t-1} \\mathbf{W}_{hi} + \\mathbf{b}_i),\\\\\n",
    "\\mathbf{F}_t &= \\sigma(\\mathbf{X}_t \\mathbf{W}_{xf} + \\mathbf{H}_{t-1} \\mathbf{W}_{hf} + \\mathbf{b}_f),\\\\\n",
    "\\mathbf{O}_t &= \\sigma(\\mathbf{X}_t \\mathbf{W}_{xo} + \\mathbf{H}_{t-1} \\mathbf{W}_{ho} + \\mathbf{b}_o),\n",
    "\\end{aligned}\n",
    "$$\n",
    "\n",
    "where $\\mathbf{W}_{xi}, \\mathbf{W}_{xf}, \\mathbf{W}_{xo} \\in \\mathbb{R}^{d \\times h}$ and $\\mathbf{W}_{hi}, \\mathbf{W}_{hf}, \\mathbf{W}_{ho} \\in \\mathbb{R}^{h \\times h}$ are weight parameters and $\\mathbf{b}_i, \\mathbf{b}_f, \\mathbf{b}_o \\in \\mathbb{R}^{1 \\times h}$ are bias parameters.\n",
    "\n",
    "### Candidate Memory Cell\n",
    "\n",
    "Next we design the memory cell. Since we have not specified the action of the various gates yet, we first introduce the *candidate* memory cell $\\tilde{\\mathbf{C}}_t \\in \\mathbb{R}^{n \\times h}$. Its computation is similar to that of the three gates described above, but using a $\\tanh$ function with a value range for $(-1, 1)$ as the activation function. This leads to the following equation at time step $t$:\n",
    "\n",
    "$$\\tilde{\\mathbf{C}}_t = \\text{tanh}(\\mathbf{X}_t \\mathbf{W}_{xc} + \\mathbf{H}_{t-1} \\mathbf{W}_{hc} + \\mathbf{b}_c),$$\n",
    "\n",
    "where $\\mathbf{W}_{xc} \\in \\mathbb{R}^{d \\times h}$ and $\\mathbf{W}_{hc} \\in \\mathbb{R}^{h \\times h}$ are weight parameters and $\\mathbf{b}_c \\in \\mathbb{R}^{1 \\times h}$ is a bias parameter.\n",
    "\n",
    "A quick illustration of the candidate memory cell is shown in :numref:`lstm_1`.\n",
    "\n",
    "![Computing the candidate memory cell in an LSTM model.](https://raw.githubusercontent.com/d2l-ai/d2l-en/master/img/lstm-1.svg)\n",
    ":label:`lstm_1`\n",
    "\n",
    "### Memory Cell\n",
    "\n",
    "In GRUs, we have a mechanism to govern input and forgetting (or skipping).\n",
    "Similarly,\n",
    "in LSTMs we have two dedicated gates for such purposes: the input gate $\\mathbf{I}_t$ governs how much we take new data into account via $\\tilde{\\mathbf{C}}_t$ and the forget gate $\\mathbf{F}_t$ addresses how much of the old memory cell content $\\mathbf{C}_{t-1} \\in \\mathbb{R}^{n \\times h}$ we retain. Using the same pointwise multiplication trick as before, we arrive at the following update equation:\n",
    "\n",
    "$$\\mathbf{C}_t = \\mathbf{F}_t \\odot \\mathbf{C}_{t-1} + \\mathbf{I}_t \\odot \\tilde{\\mathbf{C}}_t.$$\n",
    "\n",
    "If the forget gate is always approximately 1 and the input gate is always approximately 0, the past memory cells $\\mathbf{C}_{t-1}$ will be saved over time and passed to the current time step.\n",
    "This design is introduced to alleviate the vanishing gradient problem and to better capture\n",
    "long range dependencies within sequences.\n",
    "\n",
    "We thus arrive at the flow diagram in :numref:`lstm_2`.\n",
    "\n",
    "![Computing the memory cell in an LSTM model.](https://raw.githubusercontent.com/d2l-ai/d2l-en/master/img/lstm-2.svg)\n",
    "\n",
    ":label:`lstm_2`\n",
    "\n",
    "\n",
    "### Hidden State\n",
    "\n",
    "Last, we need to define how to compute the hidden state $\\mathbf{H}_t \\in \\mathbb{R}^{n \\times h}$. This is where the output gate comes into play. In LSTM it is simply a gated version of the $\\tanh$ of the memory cell.\n",
    "This ensures that the values of $\\mathbf{H}_t$ are always in the interval $(-1, 1)$.\n",
    "\n",
    "$$\\mathbf{H}_t = \\mathbf{O}_t \\odot \\tanh(\\mathbf{C}_t).$$\n",
    "\n",
    "\n",
    "Whenever the output gate approximates 1 we effectively pass all memory information through to the predictor, whereas for the output gate close to 0 we retain all the information only within the memory cell and perform no further processing.\n",
    "\n",
    "\n",
    "\n",
    ":numref:`lstm_3` has a graphical illustration of the data flow.\n",
    "\n",
    "![Computing the hidden state in an LSTM model.](https://raw.githubusercontent.com/d2l-ai/d2l-en/master/img/lstm-3.svg)\n",
    ":label:`lstm_3`\n",
    "\n",
    "\n",
    "\n",
    "## Implementation from Scratch\n",
    "\n",
    "Now let us implement an LSTM from scratch.\n",
    "As same as the experiments in :numref:`sec_rnn_scratch`,\n",
    "we first load the time machine dataset.\n"
   ]
  },
  {
   "cell_type": "code",
   "execution_count": null,
   "metadata": {},
   "outputs": [],
   "source": [
    "%mavenRepo snapshots https://oss.sonatype.org/content/repositories/snapshots/\n",
    "%maven org.slf4j:slf4j-api:1.7.26\n",
    "%maven org.slf4j:slf4j-simple:1.7.26\n",
    "    \n",
    "%maven ai.djl:api:0.11.0-SNAPSHOT\n",
    "%maven ai.djl:basicdataset:0.11.0-SNAPSHOT\n",
    "\n",
    "// See https://github.com/deepjavalibrary/djl/blob/master/mxnet/mxnet-engine/README.md\n",
    "// MXNet \n",
    "%maven ai.djl.mxnet:mxnet-engine:0.11.0-SNAPSHOT\n",
    "%maven ai.djl.mxnet:mxnet-native-auto:1.7.0-backport"
   ]
  },
  {
   "cell_type": "code",
   "execution_count": null,
   "metadata": {},
   "outputs": [],
   "source": [
    "%load ../utils/plot-utils\n",
    "%load ../utils/Functions.java\n",
    "%load ../utils/PlotUtils.java\n",
    "\n",
    "%load ../utils/StopWatch.java\n",
    "%load ../utils/Accumulator.java\n",
    "%load ../utils/Animator.java\n",
    "%load ../utils/Training.java\n",
    "%load ../utils/TimeMachineUtils.java"
   ]
  },
  {
   "cell_type": "code",
   "execution_count": null,
   "metadata": {},
   "outputs": [],
   "source": [
    "NDManager manager = NDManager.newBaseManager(Functions.tryGpu(0));"
   ]
  },
  {
   "cell_type": "code",
   "execution_count": null,
   "metadata": {},
   "outputs": [],
   "source": [
    "int batchSize = 32;\n",
    "int numSteps = 35;\n",
    "\n",
    "TimeMachineDataset dataset =\n",
    "        new TimeMachineDataset.Builder()\n",
    "                .setManager(manager)\n",
    "                .setMaxTokens(10000)\n",
    "                .setSampling(batchSize, false)\n",
    "                .setSteps(numSteps)\n",
    "                .build();\n",
    "dataset.prepare();\n",
    "Vocab vocab = dataset.getVocab();"
   ]
  },
  {
   "cell_type": "markdown",
   "metadata": {
    "origin_pos": 3
   },
   "source": [
    "### Initializing Model Parameters\n",
    "\n",
    "Next we need to define and initialize the model parameters. As previously, the hyperparameter `numHiddens` defines the number of hidden units. We initialize weights following a Gaussian distribution with 0.01 standard deviation, and we set the biases to 0.\n"
   ]
  },
  {
   "cell_type": "code",
   "execution_count": null,
   "metadata": {
    "origin_pos": 4,
    "tab": [
     "mxnet"
    ]
   },
   "outputs": [],
   "source": [
    "public static NDList getLSTMParams(int vocabSize, int numHiddens, Device device) {\n",
    "    int numInputs = vocabSize;\n",
    "    int numOutputs = vocabSize;\n",
    "\n",
    "    // Input gate parameters\n",
    "    NDList temp = three(numInputs, numHiddens, device);\n",
    "    NDArray W_xi = temp.get(0);\n",
    "    NDArray W_hi = temp.get(1);\n",
    "    NDArray b_i = temp.get(2);\n",
    "\n",
    "    // Forget gate parameters\n",
    "    temp = three(numInputs, numHiddens, device);\n",
    "    NDArray W_xf = temp.get(0);\n",
    "    NDArray W_hf = temp.get(1);\n",
    "    NDArray b_f = temp.get(2);\n",
    "\n",
    "    // Output gate parameters\n",
    "    temp = three(numInputs, numHiddens, device);\n",
    "    NDArray W_xo = temp.get(0);\n",
    "    NDArray W_ho = temp.get(1);\n",
    "    NDArray b_o = temp.get(2);\n",
    "\n",
    "    // Candidate memory cell parameters\n",
    "    temp = three(numInputs, numHiddens, device);\n",
    "    NDArray W_xc = temp.get(0);\n",
    "    NDArray W_hc = temp.get(1);\n",
    "    NDArray b_c = temp.get(2);\n",
    "\n",
    "    // Output layer parameters\n",
    "    NDArray W_hq = normal(new Shape(numHiddens, numOutputs), device);\n",
    "    NDArray b_q = manager.zeros(new Shape(numOutputs), DataType.FLOAT32, device);\n",
    "\n",
    "    // Attach gradients\n",
    "    NDList params =\n",
    "            new NDList(\n",
    "                    W_xi, W_hi, b_i, W_xf, W_hf, b_f, W_xo, W_ho, b_o, W_xc, W_hc, b_c, W_hq,\n",
    "                    b_q);\n",
    "    for (NDArray param : params) {\n",
    "        param.setRequiresGradient(true);\n",
    "    }\n",
    "    return params;\n",
    "}\n",
    "\n",
    "public static NDArray normal(Shape shape, Device device) {\n",
    "    return manager.randomNormal(0, 0.01f, shape, DataType.FLOAT32, device);\n",
    "}\n",
    "\n",
    "public static NDList three(int numInputs, int numHiddens, Device device) {\n",
    "    return new NDList(\n",
    "            normal(new Shape(numInputs, numHiddens), device),\n",
    "            normal(new Shape(numHiddens, numHiddens), device),\n",
    "            manager.zeros(new Shape(numHiddens), DataType.FLOAT32, device));\n",
    "}"
   ]
  },
  {
   "cell_type": "markdown",
   "metadata": {
    "origin_pos": 6
   },
   "source": [
    "### Defining the Model\n",
    "\n",
    "In the initialization function, the hidden state of the LSTM needs to return an *additional* memory cell with a value of 0 and a shape of (batch size, number of hidden units). Hence we get the following state initialization.\n"
   ]
  },
  {
   "cell_type": "code",
   "execution_count": null,
   "metadata": {
    "origin_pos": 7,
    "tab": [
     "mxnet"
    ]
   },
   "outputs": [],
   "source": [
    "public static NDList initLSTMState(int batchSize, int numHiddens, Device device) {\n",
    "    return new NDList(\n",
    "            manager.zeros(new Shape(batchSize, numHiddens), DataType.FLOAT32, device),\n",
    "            manager.zeros(new Shape(batchSize, numHiddens), DataType.FLOAT32, device));\n",
    "}"
   ]
  },
  {
   "cell_type": "markdown",
   "metadata": {
    "origin_pos": 9
   },
   "source": [
    "The actual model is defined just like what we discussed before: providing three gates and an auxiliary memory cell. Note that only the hidden state is passed to the output layer. The memory cell $\\mathbf{C}_t$ does not directly participate in the output computation.\n"
   ]
  },
  {
   "cell_type": "code",
   "execution_count": null,
   "metadata": {
    "origin_pos": 10,
    "tab": [
     "mxnet"
    ]
   },
   "outputs": [],
   "source": [
    "public static Pair<NDArray, NDList> lstm(NDArray inputs, NDList state, NDList params) {\n",
    "    NDArray W_xi = params.get(0);\n",
    "    NDArray W_hi = params.get(1);\n",
    "    NDArray b_i = params.get(2);\n",
    "\n",
    "    NDArray W_xf = params.get(3);\n",
    "    NDArray W_hf = params.get(4);\n",
    "    NDArray b_f = params.get(5);\n",
    "\n",
    "    NDArray W_xo = params.get(6);\n",
    "    NDArray W_ho = params.get(7);\n",
    "    NDArray b_o = params.get(8);\n",
    "\n",
    "    NDArray W_xc = params.get(9);\n",
    "    NDArray W_hc = params.get(10);\n",
    "    NDArray b_c = params.get(11);\n",
    "\n",
    "    NDArray W_hq = params.get(12);\n",
    "    NDArray b_q = params.get(13);\n",
    "\n",
    "    NDArray H = state.get(0);\n",
    "    NDArray C = state.get(1);\n",
    "    NDList outputs = new NDList();\n",
    "    NDArray X, Y, I, F, O, C_tilda;\n",
    "    for (int i = 0; i < inputs.size(0); i++) {\n",
    "        X = inputs.get(i);\n",
    "        I = Activation.sigmoid(X.dot(W_xi).add(H.dot(W_hi).add(b_i)));\n",
    "        F = Activation.sigmoid(X.dot(W_xf).add(H.dot(W_hf).add(b_f)));\n",
    "        O = Activation.sigmoid(X.dot(W_xo).add(H.dot(W_ho).add(b_o)));\n",
    "        C_tilda = Activation.tanh(X.dot(W_xc).add(H.dot(W_hc).add(b_c)));\n",
    "        C = F.mul(C).add(I.mul(C_tilda));\n",
    "        H = O.mul(Activation.tanh(C));\n",
    "        Y = H.dot(W_hq).add(b_q);\n",
    "        outputs.add(Y);\n",
    "    }\n",
    "    return new Pair(\n",
    "            outputs.size() > 1 ? NDArrays.concat(outputs) : outputs.get(0), new NDList(H, C));\n",
    "}"
   ]
  },
  {
   "cell_type": "markdown",
   "metadata": {
    "origin_pos": 12
   },
   "source": [
    "### Training and Prediction\n",
    "\n",
    "Let us train an LSTM as same as what we did in :numref:`sec_gru`, by instantiating the `RNNModelScratch` class as introduced in :numref:`sec_rnn_scratch`.\n"
   ]
  },
  {
   "cell_type": "code",
   "execution_count": null,
   "metadata": {
    "origin_pos": 13,
    "tab": [
     "mxnet"
    ]
   },
   "outputs": [],
   "source": [
    "int vocabSize = vocab.length();\n",
    "int numHiddens = 256;\n",
    "Device device = Functions.tryGpu(0);\n",
    "int numEpochs = 500;\n",
    "int lr = 1;\n",
    "\n",
    "Functions.TriFunction<Integer, Integer, Device, NDList> getParamsFn =\n",
    "        (a, b, c) -> getLSTMParams(a, b, c);\n",
    "Functions.TriFunction<Integer, Integer, Device, NDList> initLSTMStateFn =\n",
    "        (a, b, c) -> initLSTMState(a, b, c);\n",
    "Functions.TriFunction<NDArray, NDList, NDList, Pair> lstmFn = (a, b, c) -> lstm(a, b, c);\n",
    "\n",
    "RNNModelScratch model =\n",
    "        new RNNModelScratch(\n",
    "                vocabSize, numHiddens, device, getParamsFn, initLSTMStateFn, lstmFn);\n",
    "TimeMachine.trainCh8(model, dataset, vocab, lr, numEpochs, device, false, manager);"
   ]
  },
  {
   "cell_type": "markdown",
   "metadata": {
    "origin_pos": 14
   },
   "source": [
    "## Concise Implementation\n",
    "\n",
    "Using high-level APIs,\n",
    "we can directly instantiate an `LSTM` model.\n",
    "This encapsulates all the configuration details that we made explicit above. The code is significantly faster as it uses compiled operators rather than Java for many details that we spelled out in detail before.\n"
   ]
  },
  {
   "cell_type": "code",
   "execution_count": null,
   "metadata": {
    "origin_pos": 15,
    "tab": [
     "mxnet"
    ]
   },
   "outputs": [],
   "source": [
    "LSTM lstmLayer =\n",
    "        LSTM.builder()\n",
    "                .setNumLayers(1)\n",
    "                .setStateSize(numHiddens)\n",
    "                .optReturnState(true)\n",
    "                .optBatchFirst(false)\n",
    "                .build();\n",
    "RNNModel modelConcise = new RNNModel(lstmLayer, vocab.length());\n",
    "TimeMachine.trainCh8(modelConcise, dataset, vocab, lr, numEpochs, device, false, manager);"
   ]
  },
  {
   "cell_type": "markdown",
   "metadata": {
    "origin_pos": 17
   },
   "source": [
    "LSTMs are the prototypical latent variable autoregressive model with nontrivial state control.\n",
    "Many variants thereof have been proposed over the years, e.g., multiple layers, residual connections, different types of regularization. However, training LSTMs and other sequence models (such as GRUs) are quite costly due to the long range dependency of the sequence.\n",
    "Later we will encounter alternative models such as Transformers that can be used in some cases.\n",
    "\n",
    "\n",
    "## Summary\n",
    "\n",
    "* LSTMs have three types of gates: input gates, forget gates, and output gates that control the flow of information.\n",
    "* The hidden layer output of LSTM includes the hidden state and the memory cell. Only the hidden state is passed into the output layer. The memory cell is entirely internal.\n",
    "* LSTMs can alleviate vanishing and exploding gradients.\n",
    "\n",
    "\n",
    "## Exercises\n",
    "\n",
    "1. Adjust the hyperparameters and analyze the their influence on running time, perplexity, and the output sequence.\n",
    "1. How would you need to change the model to generate proper words as opposed to sequences of characters?\n",
    "1. Compare the computational cost for GRUs, LSTMs, and regular RNNs for a given hidden dimension. Pay special attention to the training and inference cost.\n",
    "1. Since the candidate memory cell ensures that the value range is between $-1$ and $1$ by  using the $\\tanh$ function, why does the hidden state need to use the $\\tanh$ function again to ensure that the output value range is between $-1$ and $1$?\n",
    "1. Implement an LSTM model for time series prediction rather than character sequence prediction.\n"
   ]
  }
 ],
 "metadata": {
  "kernelspec": {
   "display_name": "Java",
   "language": "java",
   "name": "java"
  },
  "language_info": {
   "codemirror_mode": "java",
   "file_extension": ".jshell",
   "mimetype": "text/x-java-source",
   "name": "Java",
   "pygments_lexer": "java",
   "version": "11.0.10+9"
  }
 },
 "nbformat": 4,
 "nbformat_minor": 4
}
