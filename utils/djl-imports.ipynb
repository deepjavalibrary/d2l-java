{
 "cells": [
  {
   "cell_type": "code",
   "execution_count": null,
   "metadata": {},
   "outputs": [],
   "source": [
    "%maven ai.djl:basicdataset:0.11.0\n",
    "%maven ai.djl.mxnet:mxnet-engine:0.11.0\n",
    "%maven ai.djl.mxnet:mxnet-native-auto:1.8.0\n",
    "%maven org.slf4j:slf4j-simple:1.7.26"
   ]
  },
  {
   "cell_type": "code",
   "execution_count": null,
   "metadata": {},
   "outputs": [],
   "source": [
    "import ai.djl.*;\n",
    "import ai.djl.engine.*;\n",
    "import ai.djl.inference.*;\n",
    "import ai.djl.modality.*;\n",
    "import ai.djl.modality.cv.*;\n",
    "import ai.djl.modality.cv.Image;\n",
    "import ai.djl.modality.cv.transform.*;\n",
    "import ai.djl.modality.cv.translator.*;\n",
    "import ai.djl.modality.cv.output.*;\n",
    "import ai.djl.modality.cv.util.*;\n",
    "import ai.djl.ndarray.*;\n",
    "import ai.djl.ndarray.index.*;\n",
    "import ai.djl.ndarray.types.*;\n",
    "import ai.djl.ndarray.types.Shape;\n",
    "import ai.djl.nn.*;\n",
    "import ai.djl.nn.convolutional.*;\n",
    "import ai.djl.nn.core.*;\n",
    "import ai.djl.nn.norm.*;\n",
    "import ai.djl.nn.pooling.*;\n",
    "import ai.djl.nn.recurrent.*;\n",
    "import ai.djl.repository.zoo.*;\n",
    "import ai.djl.training.*;\n",
    "import ai.djl.training.evaluator.*;\n",
    "import ai.djl.training.initializer.*;\n",
    "import ai.djl.training.listener.*;\n",
    "import ai.djl.training.loss.*;\n",
    "import ai.djl.training.optimizer.*;\n",
    "import ai.djl.training.tracker.*;\n",
    "import ai.djl.training.util.*;\n",
    "import ai.djl.training.dataset.*;\n",
    "import ai.djl.translate.*;\n",
    "import ai.djl.util.*;\n",
    "import java.io.*;\n",
    "import java.net.*;\n",
    "import java.nio.*;\n",
    "import java.nio.file.*;\n",
    "import java.util.*;\n",
    "import java.util.function.*;"
   ]
  },
  {
   "cell_type": "code",
   "execution_count": null,
   "metadata": {},
   "outputs": [],
   "source": [
    "String datasetLimit = System.getenv(\"DATASET_LIMIT\");\n",
    "if (datasetLimit != null) {\n",
    "    System.setProperty(\"DATASET_LIMIT\", datasetLimit);\n",
    "}\n",
    "String maxEpoch = System.getenv(\"MAX_EPOCH\");\n",
    "if (maxEpoch != null) {\n",
    "    System.setProperty(\"MAX_EPOCH\", maxEpoch);\n",
    "}\n",
    "\n",
    "System.setProperty(\"org.slf4j.simpleLogger.showThreadName\", \"false\");\n",
    "System.setProperty(\"org.slf4j.simpleLogger.showLogName\", \"false\");\n",
    "System.setProperty(\"org.slf4j.simpleLogger.log.ai.djl.pytorch\", \"WARN\");\n",
    "System.setProperty(\"org.slf4j.simpleLogger.log.ai.djl.mxnet\", \"WARN\");\n",
    "System.setProperty(\"org.slf4j.simpleLogger.log.ai.djl.tensorflow\", \"WARN\");\n"
   ]
  }
 ],
 "metadata": {
  "kernelspec": {
   "display_name": "Java",
   "language": "java",
   "name": "java"
  },
  "language_info": {
   "codemirror_mode": "java",
   "file_extension": ".jshell",
   "mimetype": "text/x-java-source",
   "name": "Java",
   "pygments_lexer": "java",
   "version": "14.0.2+12"
  }
 },
 "nbformat": 4,
 "nbformat_minor": 4
}
